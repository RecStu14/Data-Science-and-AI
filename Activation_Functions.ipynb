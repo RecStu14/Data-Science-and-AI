{
  "nbformat": 4,
  "nbformat_minor": 0,
  "metadata": {
    "colab": {
      "name": "Activation Functions.ipynb",
      "provenance": [],
      "collapsed_sections": []
    },
    "kernelspec": {
      "name": "python3",
      "display_name": "Python 3"
    },
    "language_info": {
      "name": "python"
    }
  },
  "cells": [
    {
      "cell_type": "code",
      "metadata": {
        "id": "AoOXbPzX1YQ1"
      },
      "source": [
        "import numpy as np\n",
        "import pandas as pd"
      ],
      "execution_count": null,
      "outputs": []
    },
    {
      "cell_type": "code",
      "metadata": {
        "colab": {
          "base_uri": "https://localhost:8080/"
        },
        "id": "ovwIUaNx1MmW",
        "outputId": "3af04227-8a95-4639-843c-293669f560f7"
      },
      "source": [
        "#Creating input values\n",
        "input_values = [x for x in range(-10,11)]\n",
        "input_values"
      ],
      "execution_count": null,
      "outputs": [
        {
          "output_type": "execute_result",
          "data": {
            "text/plain": [
              "[-10, -9, -8, -7, -6, -5, -4, -3, -2, -1, 0, 1, 2, 3, 4, 5, 6, 7, 8, 9, 10]"
            ]
          },
          "metadata": {
            "tags": []
          },
          "execution_count": 36
        }
      ]
    },
    {
      "cell_type": "markdown",
      "metadata": {
        "id": "kSX1309x-CYC"
      },
      "source": [
        "# Linear Activation Function\n",
        "\n",
        "Linear Activation function is of the equation f(x) = x, there is no specific range to limit the output value to, it just outputs the input."
      ]
    },
    {
      "cell_type": "code",
      "metadata": {
        "id": "5yVvMkPs-oex"
      },
      "source": [
        "def linear(x):\n",
        "  return x"
      ],
      "execution_count": null,
      "outputs": []
    },
    {
      "cell_type": "code",
      "metadata": {
        "colab": {
          "base_uri": "https://localhost:8080/"
        },
        "id": "eTxHwJwd-rwU",
        "outputId": "b4dcd7a7-5961-40d9-d9ba-7cdfa901e4ad"
      },
      "source": [
        "output_values_lin = [linear(x) for x in input_values]\n",
        "output_values_lin"
      ],
      "execution_count": null,
      "outputs": [
        {
          "output_type": "execute_result",
          "data": {
            "text/plain": [
              "[-10, -9, -8, -7, -6, -5, -4, -3, -2, -1, 0, 1, 2, 3, 4, 5, 6, 7, 8, 9, 10]"
            ]
          },
          "metadata": {
            "tags": []
          },
          "execution_count": 60
        }
      ]
    },
    {
      "cell_type": "code",
      "metadata": {
        "colab": {
          "base_uri": "https://localhost:8080/",
          "height": 281
        },
        "id": "-Kz2tSYz-0hU",
        "outputId": "8bea8acc-ce51-4702-e4fb-f2678cfa6912"
      },
      "source": [
        "import matplotlib.pyplot as plt\n",
        "plt.plot(input_values, output_values_lin)\n",
        "plt.title(\"Linear Activation Function\")\n",
        "plt.show() "
      ],
      "execution_count": null,
      "outputs": [
        {
          "output_type": "display_data",
          "data": {
            "image/png": "[encoded data removed]",
            "text/plain": [
              "<Figure size 432x288 with 1 Axes>"
            ]
          },
          "metadata": {
            "tags": [],
            "needs_background": "light"
          }
        }
      ]
    },
    {
      "cell_type": "markdown",
      "metadata": {
        "id": "mzM3zlws6Xqa"
      },
      "source": [
        "# Sigmoid Activation Function\n",
        "\n",
        "The Sigmoid Activation Function takes in inputs and outputs values that are in between 0 and 1. "
      ]
    },
    {
      "cell_type": "code",
      "metadata": {
        "id": "fKkaF5531835"
      },
      "source": [
        "from math import exp\n",
        "def sigmoid(x):\n",
        "      return 1.0/(1.0+ exp(-x))\n"
      ],
      "execution_count": null,
      "outputs": []
    },
    {
      "cell_type": "code",
      "metadata": {
        "colab": {
          "base_uri": "https://localhost:8080/"
        },
        "id": "NnC1xclI27ow",
        "outputId": "5886d47e-c4ed-48c6-8074-8eeae6757290"
      },
      "source": [
        "#Output Values\n",
        "output_values_sigm = [sigmoid(x) for x in input_values]\n",
        "output_values_sigm"
      ],
      "execution_count": null,
      "outputs": [
        {
          "output_type": "execute_result",
          "data": {
            "text/plain": [
              "[4.5397868702434395e-05,\n",
              " 0.00012339457598623172,\n",
              " 0.0003353501304664781,\n",
              " 0.0009110511944006454,\n",
              " 0.0024726231566347743,\n",
              " 0.0066928509242848554,\n",
              " 0.01798620996209156,\n",
              " 0.04742587317756678,\n",
              " 0.11920292202211755,\n",
              " 0.2689414213699951,\n",
              " 0.5,\n",
              " 0.7310585786300049,\n",
              " 0.8807970779778823,\n",
              " 0.9525741268224334,\n",
              " 0.9820137900379085,\n",
              " 0.9933071490757153,\n",
              " 0.9975273768433653,\n",
              " 0.9990889488055994,\n",
              " 0.9996646498695336,\n",
              " 0.9998766054240137,\n",
              " 0.9999546021312976]"
            ]
          },
          "metadata": {
            "tags": []
          },
          "execution_count": 45
        }
      ]
    },
    {
      "cell_type": "code",
      "metadata": {
        "colab": {
          "base_uri": "https://localhost:8080/",
          "height": 281
        },
        "id": "NGiVzRcJ3GYu",
        "outputId": "01db14f0-24e9-4c9a-84ab-e74958cba522"
      },
      "source": [
        "#Plotting these points\n",
        "plt.plot(input_values, output_values_sigm)\n",
        "plt.title(\"Sigmoid Activation Function\")\n",
        "plt.show() "
      ],
      "execution_count": null,
      "outputs": [
        {
          "output_type": "display_data",
          "data": {
            "image/png": "[encoded data removed]",
            "text/plain": [
              "<Figure size 432x288 with 1 Axes>"
            ]
          },
          "metadata": {
            "tags": [],
            "needs_background": "light"
          }
        }
      ]
    },
    {
      "cell_type": "markdown",
      "metadata": {
        "id": "TexfziJT6jfN"
      },
      "source": [
        "# Hyperbolic Tangent (tanh(x))\n",
        "\n",
        "The Hyperbolic Tangent Activation curve has a similar S shape curve to the Sigmoid Activation Function. The tanh(x) activation fxn takes in any input and outputs vlaues between -1 and 1."
      ]
    },
    {
      "cell_type": "code",
      "metadata": {
        "id": "rfbI76s96GIh"
      },
      "source": [
        "def tanh(x):\n",
        "  return ((exp(x) - exp(-x)))/(exp(x) + exp(-x))\n",
        "  #(e^x – e^-x) / (e^x + e^-x)"
      ],
      "execution_count": null,
      "outputs": []
    },
    {
      "cell_type": "code",
      "metadata": {
        "colab": {
          "base_uri": "https://localhost:8080/"
        },
        "id": "0SDFHR-C7wdt",
        "outputId": "4991efae-86c7-4366-9f71-b33cd6ae9615"
      },
      "source": [
        "output_values_tanh = [tanh(x) for x in input_values]\n",
        "output_values_tanh"
      ],
      "execution_count": null,
      "outputs": [
        {
          "output_type": "execute_result",
          "data": {
            "text/plain": [
              "[-0.9999999958776926,\n",
              " -0.9999999695400409,\n",
              " -0.999999774929676,\n",
              " -0.9999983369439447,\n",
              " -0.9999877116507956,\n",
              " -0.999909204262595,\n",
              " -0.9993292997390669,\n",
              " -0.9950547536867306,\n",
              " -0.964027580075817,\n",
              " -0.7615941559557649,\n",
              " 0.0,\n",
              " 0.7615941559557649,\n",
              " 0.964027580075817,\n",
              " 0.9950547536867306,\n",
              " 0.9993292997390669,\n",
              " 0.999909204262595,\n",
              " 0.9999877116507956,\n",
              " 0.9999983369439447,\n",
              " 0.999999774929676,\n",
              " 0.9999999695400409,\n",
              " 0.9999999958776926]"
            ]
          },
          "metadata": {
            "tags": []
          },
          "execution_count": 52
        }
      ]
    },
    {
      "cell_type": "code",
      "metadata": {
        "colab": {
          "base_uri": "https://localhost:8080/",
          "height": 281
        },
        "id": "2vnVW-0r8LMd",
        "outputId": "0e885daa-0b56-4bc4-a37a-f39760fc73b7"
      },
      "source": [
        "plt.plot(input_values, output_values_tanh)\n",
        "plt.title(\"Hyperbolic Tangent Activation Function\")\n",
        "plt.show() "
      ],
      "execution_count": null,
      "outputs": [
        {
          "output_type": "display_data",
          "data": {
            "image/png": "[encoded data removed]",
            "text/plain": [
              "<Figure size 432x288 with 1 Axes>"
            ]
          },
          "metadata": {
            "tags": [],
            "needs_background": "light"
          }
        }
      ]
    },
    {
      "cell_type": "markdown",
      "metadata": {
        "id": "iibvJa0g_B20"
      },
      "source": [
        "### Limitations of Sigmoid and Tanh(x) Activation Functions\n",
        "\n",
        "Sigmoid and tanh functions were widely used, tanh was preferred over sigmoid as it was easier to train and had a better predictive performance. Both these functions although widely used had 2 main limitations:\n",
        "\n",
        "1. The model using both these functions would saturate, meaning that the largest value would be 1 and the smallest value would be 0 or 1 depending on whether sigmoid or tanh was used. Saturation - the state where the output values of an activation function are the bouundary values of its range, this means that any additional changes or info sent to the activation function would have little effect on the output values - this hampers the ability to understand the behaviour of the neurons.\n",
        "\n",
        "\n",
        "2. The function was actually sensitive to changes only about its midpoint, thus having limited sensitivity. \n",
        "\n",
        "3. Training models using sigmoid and tanh became tougher with imporved hardware capabilities of the GPU\n",
        "\n",
        "4. Susceptible to the Vanishing Gradient problem\n",
        "\n",
        "\n",
        "\n"
      ]
    },
    {
      "cell_type": "markdown",
      "metadata": {
        "id": "GprSwS188aSo"
      },
      "source": [
        "# Rectified Linear Unit (ReLU)\n",
        "\n",
        "ReLU is a piecewise function that takes in any input values and returns 0 if the number is lesser than or equals to 0 and returns the number itself if the number is greater than 0."
      ]
    },
    {
      "cell_type": "code",
      "metadata": {
        "id": "3Ax_YnNJ8Q7n"
      },
      "source": [
        "def relu(x):\n",
        "  return max(0.0,x)"
      ],
      "execution_count": null,
      "outputs": []
    },
    {
      "cell_type": "code",
      "metadata": {
        "colab": {
          "base_uri": "https://localhost:8080/"
        },
        "id": "75gIHjLB8mQ9",
        "outputId": "f9fbd16c-1c79-4f2f-8cc3-784695f91e04"
      },
      "source": [
        "output_values_relu = [relu(x) for x in input_values]\n",
        "output_values_relu"
      ],
      "execution_count": null,
      "outputs": [
        {
          "output_type": "execute_result",
          "data": {
            "text/plain": [
              "[0.0,\n",
              " 0.0,\n",
              " 0.0,\n",
              " 0.0,\n",
              " 0.0,\n",
              " 0.0,\n",
              " 0.0,\n",
              " 0.0,\n",
              " 0.0,\n",
              " 0.0,\n",
              " 0.0,\n",
              " 1,\n",
              " 2,\n",
              " 3,\n",
              " 4,\n",
              " 5,\n",
              " 6,\n",
              " 7,\n",
              " 8,\n",
              " 9,\n",
              " 10]"
            ]
          },
          "metadata": {
            "tags": []
          },
          "execution_count": 56
        }
      ]
    },
    {
      "cell_type": "code",
      "metadata": {
        "colab": {
          "base_uri": "https://localhost:8080/",
          "height": 281
        },
        "id": "neN6H5dP8z6z",
        "outputId": "6870ef76-2dbd-4900-91af-f6ad4a51c454"
      },
      "source": [
        "plt.plot(input_values, output_values_relu)\n",
        "plt.title(\"Rectified Linear Unit (ReLU) Activation Function\")\n",
        "plt.show() "
      ],
      "execution_count": null,
      "outputs": [
        {
          "output_type": "display_data",
          "data": {
            "image/png": "[encoded data removed]",
            "text/plain": [
              "<Figure size 432x288 with 1 Axes>"
            ]
          },
          "metadata": {
            "tags": [],
            "needs_background": "light"
          }
        }
      ]
    }
  ]
}