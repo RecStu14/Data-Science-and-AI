{
 "cells": [
  {
   "cell_type": "markdown",
   "id": "5c8d6432-ce2c-4b83-a4e1-5d05ffc1aacd",
   "metadata": {},
   "source": [
    "## Evaluation SVR on Validation set"
   ]
  },
  {
   "cell_type": "markdown",
   "id": "dec4a17f-bc7b-4d26-87d3-0a94f3624374",
   "metadata": {},
   "source": [
    "### Prepare dataset for fitting in model"
   ]
  },
  {
   "cell_type": "code",
   "execution_count": 2,
   "id": "c2ebf250-568f-4d42-ba1a-b02393de0b3b",
   "metadata": {},
   "outputs": [
    {
     "name": "stdout",
     "output_type": "stream",
     "text": [
      "Reading Datafile...\n",
      "Success!\n"
     ]
    }
   ],
   "source": [
    "print(\"Reading Datafile...\")\n",
    "checkpoint5 = pd.read_csv('checkpoint-5.csv')\n",
    "print(\"Success!\")"
   ]
  },
  {
   "cell_type": "code",
   "execution_count": 3,
   "id": "5c76120c-efbd-4a29-8c0f-f94dfaf11741",
   "metadata": {},
   "outputs": [
    {
     "name": "stdout",
     "output_type": "stream",
     "text": [
      "Reading index of train data...\n",
      "Length of the train indexes is... 540000\n",
      "17094116\n"
     ]
    }
   ],
   "source": [
    "print(\"Reading index of train data...\") \n",
    "with open(\"train_idx.txt\") as file:\n",
    "    train_idx_str = file.read()\n",
    "    file.close()\n",
    "\n",
    "train_idx = ast.literal_eval(train_idx_str)\n",
    "print(\"Length of the train indexes is...\", len(train_idx))\n",
    "print(train_idx[0])"
   ]
  },
  {
   "cell_type": "code",
   "execution_count": 4,
   "id": "c60262ec-4667-4c84-adb8-f6ca56f43b37",
   "metadata": {},
   "outputs": [
    {
     "name": "stdout",
     "output_type": "stream",
     "text": [
      "Getting dataframe of train set...\n",
      "Seperated dataframe for both train and test\n"
     ]
    }
   ],
   "source": [
    "print(\"Getting dataframe of train set...\")\n",
    "train_set = checkpoint5.loc[train_idx]\n",
    "checkpoint5.drop(axis=0, index=train_idx,inplace=True)\n",
    "print(\"Seperated dataframe for both train and test\")"
   ]
  },
  {
   "cell_type": "code",
   "execution_count": 5,
   "id": "426e0d82-9d46-46ef-ba86-f2c910b67f64",
   "metadata": {},
   "outputs": [
    {
     "name": "stdout",
     "output_type": "stream",
     "text": [
      "Obtaining labels for train set...\n",
      "Obtained labels!\n",
      "Train set is ready!\n"
     ]
    }
   ],
   "source": [
    "print(\"Obtaining labels for train set...\")\n",
    "cols = 'fare_amount'\n",
    "y_train = train_set[[cols]]\n",
    "print(\"Obtained labels!\")\n",
    "del train_set['time']\n",
    "del train_set['fare_amount']\n",
    "del train_set['pickup_longitude']\n",
    "del train_set['pickup_latitude']\n",
    "del train_set['dropoff_longitude']\n",
    "del train_set['dropoff_latitude']\n",
    "print(\"Train set is ready!\")"
   ]
  },
  {
   "cell_type": "code",
   "execution_count": 6,
   "id": "872d75d7-6ecc-4709-8711-076c4d1632b1",
   "metadata": {},
   "outputs": [],
   "source": [
    "X_train = train_set"
   ]
  },
  {
   "cell_type": "code",
   "execution_count": 7,
   "id": "4816e904-8c67-45b5-a4a3-ec25729eb74b",
   "metadata": {},
   "outputs": [
    {
     "data": {
      "text/html": [
       "<div>\n",
       "<style scoped>\n",
       "    .dataframe tbody tr th:only-of-type {\n",
       "        vertical-align: middle;\n",
       "    }\n",
       "\n",
       "    .dataframe tbody tr th {\n",
       "        vertical-align: top;\n",
       "    }\n",
       "\n",
       "    .dataframe thead th {\n",
       "        text-align: right;\n",
       "    }\n",
       "</style>\n",
       "<table border=\"1\" class=\"dataframe\">\n",
       "  <thead>\n",
       "    <tr style=\"text-align: right;\">\n",
       "      <th></th>\n",
       "      <th>passenger_count</th>\n",
       "      <th>day</th>\n",
       "      <th>weekend</th>\n",
       "      <th>holiday</th>\n",
       "      <th>peak_hour</th>\n",
       "      <th>hotspot</th>\n",
       "      <th>dist</th>\n",
       "    </tr>\n",
       "  </thead>\n",
       "  <tbody>\n",
       "    <tr>\n",
       "      <th>17094116</th>\n",
       "      <td>1</td>\n",
       "      <td>3</td>\n",
       "      <td>False</td>\n",
       "      <td>0</td>\n",
       "      <td>0</td>\n",
       "      <td>1</td>\n",
       "      <td>0.696993</td>\n",
       "    </tr>\n",
       "    <tr>\n",
       "      <th>53649197</th>\n",
       "      <td>1</td>\n",
       "      <td>5</td>\n",
       "      <td>True</td>\n",
       "      <td>0</td>\n",
       "      <td>0</td>\n",
       "      <td>0</td>\n",
       "      <td>1.594699</td>\n",
       "    </tr>\n",
       "    <tr>\n",
       "      <th>38088232</th>\n",
       "      <td>5</td>\n",
       "      <td>1</td>\n",
       "      <td>False</td>\n",
       "      <td>0</td>\n",
       "      <td>1</td>\n",
       "      <td>0</td>\n",
       "      <td>3.154141</td>\n",
       "    </tr>\n",
       "    <tr>\n",
       "      <th>29785639</th>\n",
       "      <td>1</td>\n",
       "      <td>2</td>\n",
       "      <td>False</td>\n",
       "      <td>0</td>\n",
       "      <td>0</td>\n",
       "      <td>0</td>\n",
       "      <td>2.620846</td>\n",
       "    </tr>\n",
       "    <tr>\n",
       "      <th>24305630</th>\n",
       "      <td>1</td>\n",
       "      <td>1</td>\n",
       "      <td>False</td>\n",
       "      <td>0</td>\n",
       "      <td>0</td>\n",
       "      <td>0</td>\n",
       "      <td>6.734819</td>\n",
       "    </tr>\n",
       "    <tr>\n",
       "      <th>...</th>\n",
       "      <td>...</td>\n",
       "      <td>...</td>\n",
       "      <td>...</td>\n",
       "      <td>...</td>\n",
       "      <td>...</td>\n",
       "      <td>...</td>\n",
       "      <td>...</td>\n",
       "    </tr>\n",
       "    <tr>\n",
       "      <th>12888383</th>\n",
       "      <td>1</td>\n",
       "      <td>6</td>\n",
       "      <td>True</td>\n",
       "      <td>0</td>\n",
       "      <td>0</td>\n",
       "      <td>1</td>\n",
       "      <td>4.731678</td>\n",
       "    </tr>\n",
       "    <tr>\n",
       "      <th>38936098</th>\n",
       "      <td>1</td>\n",
       "      <td>3</td>\n",
       "      <td>False</td>\n",
       "      <td>0</td>\n",
       "      <td>1</td>\n",
       "      <td>0</td>\n",
       "      <td>3.661563</td>\n",
       "    </tr>\n",
       "    <tr>\n",
       "      <th>189012</th>\n",
       "      <td>2</td>\n",
       "      <td>6</td>\n",
       "      <td>True</td>\n",
       "      <td>0</td>\n",
       "      <td>0</td>\n",
       "      <td>0</td>\n",
       "      <td>4.128879</td>\n",
       "    </tr>\n",
       "    <tr>\n",
       "      <th>37063756</th>\n",
       "      <td>5</td>\n",
       "      <td>3</td>\n",
       "      <td>False</td>\n",
       "      <td>0</td>\n",
       "      <td>1</td>\n",
       "      <td>0</td>\n",
       "      <td>18.904935</td>\n",
       "    </tr>\n",
       "    <tr>\n",
       "      <th>39903229</th>\n",
       "      <td>3</td>\n",
       "      <td>5</td>\n",
       "      <td>True</td>\n",
       "      <td>0</td>\n",
       "      <td>0</td>\n",
       "      <td>0</td>\n",
       "      <td>2.081787</td>\n",
       "    </tr>\n",
       "  </tbody>\n",
       "</table>\n",
       "<p>540000 rows × 7 columns</p>\n",
       "</div>"
      ],
      "text/plain": [
       "          passenger_count  day  weekend  holiday  peak_hour  hotspot  \\\n",
       "17094116                1    3    False        0          0        1   \n",
       "53649197                1    5     True        0          0        0   \n",
       "38088232                5    1    False        0          1        0   \n",
       "29785639                1    2    False        0          0        0   \n",
       "24305630                1    1    False        0          0        0   \n",
       "...                   ...  ...      ...      ...        ...      ...   \n",
       "12888383                1    6     True        0          0        1   \n",
       "38936098                1    3    False        0          1        0   \n",
       "189012                  2    6     True        0          0        0   \n",
       "37063756                5    3    False        0          1        0   \n",
       "39903229                3    5     True        0          0        0   \n",
       "\n",
       "               dist  \n",
       "17094116   0.696993  \n",
       "53649197   1.594699  \n",
       "38088232   3.154141  \n",
       "29785639   2.620846  \n",
       "24305630   6.734819  \n",
       "...             ...  \n",
       "12888383   4.731678  \n",
       "38936098   3.661563  \n",
       "189012     4.128879  \n",
       "37063756  18.904935  \n",
       "39903229   2.081787  \n",
       "\n",
       "[540000 rows x 7 columns]"
      ]
     },
     "execution_count": 7,
     "metadata": {},
     "output_type": "execute_result"
    }
   ],
   "source": [
    "X_train"
   ]
  },
  {
   "cell_type": "code",
   "execution_count": 8,
   "id": "450b6a83-24dd-4fb0-abe1-6d1d18f6d07e",
   "metadata": {},
   "outputs": [
    {
     "data": {
      "text/html": [
       "<div>\n",
       "<style scoped>\n",
       "    .dataframe tbody tr th:only-of-type {\n",
       "        vertical-align: middle;\n",
       "    }\n",
       "\n",
       "    .dataframe tbody tr th {\n",
       "        vertical-align: top;\n",
       "    }\n",
       "\n",
       "    .dataframe thead th {\n",
       "        text-align: right;\n",
       "    }\n",
       "</style>\n",
       "<table border=\"1\" class=\"dataframe\">\n",
       "  <thead>\n",
       "    <tr style=\"text-align: right;\">\n",
       "      <th></th>\n",
       "      <th>fare_amount</th>\n",
       "    </tr>\n",
       "  </thead>\n",
       "  <tbody>\n",
       "    <tr>\n",
       "      <th>17094116</th>\n",
       "      <td>4.50</td>\n",
       "    </tr>\n",
       "    <tr>\n",
       "      <th>53649197</th>\n",
       "      <td>4.90</td>\n",
       "    </tr>\n",
       "    <tr>\n",
       "      <th>38088232</th>\n",
       "      <td>10.90</td>\n",
       "    </tr>\n",
       "    <tr>\n",
       "      <th>29785639</th>\n",
       "      <td>7.30</td>\n",
       "    </tr>\n",
       "    <tr>\n",
       "      <th>24305630</th>\n",
       "      <td>27.00</td>\n",
       "    </tr>\n",
       "    <tr>\n",
       "      <th>...</th>\n",
       "      <td>...</td>\n",
       "    </tr>\n",
       "    <tr>\n",
       "      <th>12888383</th>\n",
       "      <td>14.50</td>\n",
       "    </tr>\n",
       "    <tr>\n",
       "      <th>38936098</th>\n",
       "      <td>11.70</td>\n",
       "    </tr>\n",
       "    <tr>\n",
       "      <th>189012</th>\n",
       "      <td>6.10</td>\n",
       "    </tr>\n",
       "    <tr>\n",
       "      <th>37063756</th>\n",
       "      <td>57.54</td>\n",
       "    </tr>\n",
       "    <tr>\n",
       "      <th>39903229</th>\n",
       "      <td>6.10</td>\n",
       "    </tr>\n",
       "  </tbody>\n",
       "</table>\n",
       "<p>540000 rows × 1 columns</p>\n",
       "</div>"
      ],
      "text/plain": [
       "          fare_amount\n",
       "17094116         4.50\n",
       "53649197         4.90\n",
       "38088232        10.90\n",
       "29785639         7.30\n",
       "24305630        27.00\n",
       "...               ...\n",
       "12888383        14.50\n",
       "38936098        11.70\n",
       "189012           6.10\n",
       "37063756        57.54\n",
       "39903229         6.10\n",
       "\n",
       "[540000 rows x 1 columns]"
      ]
     },
     "execution_count": 8,
     "metadata": {},
     "output_type": "execute_result"
    }
   ],
   "source": [
    "y_train"
   ]
  },
  {
   "cell_type": "markdown",
   "id": "5dbfc394-b3d6-46fc-958a-52c781ad1cec",
   "metadata": {},
   "source": [
    "### Test set preparation 10825189 rows only"
   ]
  },
  {
   "cell_type": "code",
   "execution_count": 9,
   "id": "57a47a2b-cb7f-4b68-b0a7-3c562fcf4dd9",
   "metadata": {},
   "outputs": [
    {
     "name": "stdout",
     "output_type": "stream",
     "text": [
      "Obtaining samples from huge test set...\n",
      "Obtained test set!\n"
     ]
    }
   ],
   "source": [
    "print(\"Obtaining samples from huge test set...\")\n",
    "test_set = checkpoint5.sample(n=10825189, replace=False)\n",
    "print(\"Obtained test set!\")"
   ]
  },
  {
   "cell_type": "code",
   "execution_count": 10,
   "id": "375e7ab2-abb1-4b8e-8e06-acbc93b9e6e7",
   "metadata": {},
   "outputs": [
    {
     "name": "stdout",
     "output_type": "stream",
     "text": [
      "Obtaining labels for test set...\n",
      "Obtained labels!\n",
      "Test set is ready!\n"
     ]
    }
   ],
   "source": [
    "print(\"Obtaining labels for test set...\")\n",
    "cols = 'fare_amount'\n",
    "y_test = test_set[[cols]]\n",
    "print(\"Obtained labels!\")\n",
    "del test_set['time']\n",
    "del test_set['fare_amount']\n",
    "del test_set['pickup_longitude']\n",
    "del test_set['pickup_latitude']\n",
    "del test_set['dropoff_longitude']\n",
    "del test_set['dropoff_latitude']\n",
    "print(\"Test set is ready!\")"
   ]
  },
  {
   "cell_type": "code",
   "execution_count": 11,
   "id": "2ec3c4f7-482a-426e-93e6-01f6eeccf93e",
   "metadata": {},
   "outputs": [],
   "source": [
    "X_test = test_set"
   ]
  },
  {
   "cell_type": "code",
   "execution_count": 12,
   "id": "88086ce2-2e01-4835-ae46-ca986db8e27b",
   "metadata": {},
   "outputs": [
    {
     "data": {
      "text/html": [
       "<div>\n",
       "<style scoped>\n",
       "    .dataframe tbody tr th:only-of-type {\n",
       "        vertical-align: middle;\n",
       "    }\n",
       "\n",
       "    .dataframe tbody tr th {\n",
       "        vertical-align: top;\n",
       "    }\n",
       "\n",
       "    .dataframe thead th {\n",
       "        text-align: right;\n",
       "    }\n",
       "</style>\n",
       "<table border=\"1\" class=\"dataframe\">\n",
       "  <thead>\n",
       "    <tr style=\"text-align: right;\">\n",
       "      <th></th>\n",
       "      <th>passenger_count</th>\n",
       "      <th>day</th>\n",
       "      <th>weekend</th>\n",
       "      <th>holiday</th>\n",
       "      <th>peak_hour</th>\n",
       "      <th>hotspot</th>\n",
       "      <th>dist</th>\n",
       "    </tr>\n",
       "  </thead>\n",
       "  <tbody>\n",
       "    <tr>\n",
       "      <th>52885951</th>\n",
       "      <td>1</td>\n",
       "      <td>3</td>\n",
       "      <td>False</td>\n",
       "      <td>0</td>\n",
       "      <td>0</td>\n",
       "      <td>0</td>\n",
       "      <td>3.146507</td>\n",
       "    </tr>\n",
       "    <tr>\n",
       "      <th>17767819</th>\n",
       "      <td>1</td>\n",
       "      <td>3</td>\n",
       "      <td>False</td>\n",
       "      <td>0</td>\n",
       "      <td>1</td>\n",
       "      <td>0</td>\n",
       "      <td>2.636226</td>\n",
       "    </tr>\n",
       "    <tr>\n",
       "      <th>50859840</th>\n",
       "      <td>1</td>\n",
       "      <td>2</td>\n",
       "      <td>False</td>\n",
       "      <td>0</td>\n",
       "      <td>1</td>\n",
       "      <td>0</td>\n",
       "      <td>1.644529</td>\n",
       "    </tr>\n",
       "    <tr>\n",
       "      <th>32845263</th>\n",
       "      <td>1</td>\n",
       "      <td>5</td>\n",
       "      <td>True</td>\n",
       "      <td>0</td>\n",
       "      <td>0</td>\n",
       "      <td>0</td>\n",
       "      <td>2.500767</td>\n",
       "    </tr>\n",
       "    <tr>\n",
       "      <th>25760624</th>\n",
       "      <td>2</td>\n",
       "      <td>6</td>\n",
       "      <td>True</td>\n",
       "      <td>0</td>\n",
       "      <td>0</td>\n",
       "      <td>0</td>\n",
       "      <td>1.809844</td>\n",
       "    </tr>\n",
       "    <tr>\n",
       "      <th>...</th>\n",
       "      <td>...</td>\n",
       "      <td>...</td>\n",
       "      <td>...</td>\n",
       "      <td>...</td>\n",
       "      <td>...</td>\n",
       "      <td>...</td>\n",
       "      <td>...</td>\n",
       "    </tr>\n",
       "    <tr>\n",
       "      <th>23781631</th>\n",
       "      <td>1</td>\n",
       "      <td>1</td>\n",
       "      <td>False</td>\n",
       "      <td>0</td>\n",
       "      <td>0</td>\n",
       "      <td>1</td>\n",
       "      <td>4.811584</td>\n",
       "    </tr>\n",
       "    <tr>\n",
       "      <th>19377778</th>\n",
       "      <td>5</td>\n",
       "      <td>4</td>\n",
       "      <td>True</td>\n",
       "      <td>0</td>\n",
       "      <td>0</td>\n",
       "      <td>0</td>\n",
       "      <td>2.418924</td>\n",
       "    </tr>\n",
       "    <tr>\n",
       "      <th>36610696</th>\n",
       "      <td>1</td>\n",
       "      <td>5</td>\n",
       "      <td>True</td>\n",
       "      <td>0</td>\n",
       "      <td>0</td>\n",
       "      <td>0</td>\n",
       "      <td>2.330769</td>\n",
       "    </tr>\n",
       "    <tr>\n",
       "      <th>51331868</th>\n",
       "      <td>5</td>\n",
       "      <td>4</td>\n",
       "      <td>True</td>\n",
       "      <td>0</td>\n",
       "      <td>0</td>\n",
       "      <td>0</td>\n",
       "      <td>2.120057</td>\n",
       "    </tr>\n",
       "    <tr>\n",
       "      <th>29291221</th>\n",
       "      <td>1</td>\n",
       "      <td>3</td>\n",
       "      <td>False</td>\n",
       "      <td>0</td>\n",
       "      <td>0</td>\n",
       "      <td>1</td>\n",
       "      <td>3.309603</td>\n",
       "    </tr>\n",
       "  </tbody>\n",
       "</table>\n",
       "<p>10825189 rows × 7 columns</p>\n",
       "</div>"
      ],
      "text/plain": [
       "          passenger_count  day  weekend  holiday  peak_hour  hotspot      dist\n",
       "52885951                1    3    False        0          0        0  3.146507\n",
       "17767819                1    3    False        0          1        0  2.636226\n",
       "50859840                1    2    False        0          1        0  1.644529\n",
       "32845263                1    5     True        0          0        0  2.500767\n",
       "25760624                2    6     True        0          0        0  1.809844\n",
       "...                   ...  ...      ...      ...        ...      ...       ...\n",
       "23781631                1    1    False        0          0        1  4.811584\n",
       "19377778                5    4     True        0          0        0  2.418924\n",
       "36610696                1    5     True        0          0        0  2.330769\n",
       "51331868                5    4     True        0          0        0  2.120057\n",
       "29291221                1    3    False        0          0        1  3.309603\n",
       "\n",
       "[10825189 rows x 7 columns]"
      ]
     },
     "execution_count": 12,
     "metadata": {},
     "output_type": "execute_result"
    }
   ],
   "source": [
    "X_test"
   ]
  },
  {
   "cell_type": "code",
   "execution_count": 13,
   "id": "cd362e24-34b4-4418-b957-e5426e53201c",
   "metadata": {},
   "outputs": [
    {
     "data": {
      "text/html": [
       "<div>\n",
       "<style scoped>\n",
       "    .dataframe tbody tr th:only-of-type {\n",
       "        vertical-align: middle;\n",
       "    }\n",
       "\n",
       "    .dataframe tbody tr th {\n",
       "        vertical-align: top;\n",
       "    }\n",
       "\n",
       "    .dataframe thead th {\n",
       "        text-align: right;\n",
       "    }\n",
       "</style>\n",
       "<table border=\"1\" class=\"dataframe\">\n",
       "  <thead>\n",
       "    <tr style=\"text-align: right;\">\n",
       "      <th></th>\n",
       "      <th>fare_amount</th>\n",
       "    </tr>\n",
       "  </thead>\n",
       "  <tbody>\n",
       "    <tr>\n",
       "      <th>52885951</th>\n",
       "      <td>9.7</td>\n",
       "    </tr>\n",
       "    <tr>\n",
       "      <th>17767819</th>\n",
       "      <td>7.7</td>\n",
       "    </tr>\n",
       "    <tr>\n",
       "      <th>50859840</th>\n",
       "      <td>4.9</td>\n",
       "    </tr>\n",
       "    <tr>\n",
       "      <th>32845263</th>\n",
       "      <td>8.5</td>\n",
       "    </tr>\n",
       "    <tr>\n",
       "      <th>25760624</th>\n",
       "      <td>6.5</td>\n",
       "    </tr>\n",
       "    <tr>\n",
       "      <th>...</th>\n",
       "      <td>...</td>\n",
       "    </tr>\n",
       "    <tr>\n",
       "      <th>23781631</th>\n",
       "      <td>14.5</td>\n",
       "    </tr>\n",
       "    <tr>\n",
       "      <th>19377778</th>\n",
       "      <td>12.1</td>\n",
       "    </tr>\n",
       "    <tr>\n",
       "      <th>36610696</th>\n",
       "      <td>6.9</td>\n",
       "    </tr>\n",
       "    <tr>\n",
       "      <th>51331868</th>\n",
       "      <td>7.3</td>\n",
       "    </tr>\n",
       "    <tr>\n",
       "      <th>29291221</th>\n",
       "      <td>9.0</td>\n",
       "    </tr>\n",
       "  </tbody>\n",
       "</table>\n",
       "<p>10825189 rows × 1 columns</p>\n",
       "</div>"
      ],
      "text/plain": [
       "          fare_amount\n",
       "52885951          9.7\n",
       "17767819          7.7\n",
       "50859840          4.9\n",
       "32845263          8.5\n",
       "25760624          6.5\n",
       "...               ...\n",
       "23781631         14.5\n",
       "19377778         12.1\n",
       "36610696          6.9\n",
       "51331868          7.3\n",
       "29291221          9.0\n",
       "\n",
       "[10825189 rows x 1 columns]"
      ]
     },
     "execution_count": 13,
     "metadata": {},
     "output_type": "execute_result"
    }
   ],
   "source": [
    "y_test"
   ]
  },
  {
   "cell_type": "markdown",
   "id": "be7ceec9-7deb-4238-99fd-c9a385382c7d",
   "metadata": {},
   "source": [
    "### Load Model"
   ]
  },
  {
   "cell_type": "code",
   "execution_count": 14,
   "id": "a6dc5d94-1ca6-49ae-81f9-5fb90c93e8db",
   "metadata": {},
   "outputs": [],
   "source": [
    "with open('WithDist_SVM/Dist_SVM_Experiment_540000_v2.pkl', 'rb') as f:\n",
    "\n",
    "    regressor = pickle.load(f)"
   ]
  },
  {
   "cell_type": "code",
   "execution_count": 15,
   "id": "b807e110-5a24-4a02-9fdd-d986752e8180",
   "metadata": {},
   "outputs": [
    {
     "name": "stdout",
     "output_type": "stream",
     "text": [
      "Fitting...\n",
      "Predicting...\n",
      "Inversely Transforming value data \n",
      "Predicted all!\n",
      "[[10.35504507]\n",
      " [ 9.5454811 ]\n",
      " [ 7.16231199]\n",
      " ...\n",
      " [ 8.33188855]\n",
      " [ 7.99253101]\n",
      " [10.98259544]]\n"
     ]
    }
   ],
   "source": [
    "print(\"Fitting...\")\n",
    "X_sc = StandardScaler()\n",
    "y_sc = StandardScaler()\n",
    "X_train = X_sc.fit_transform(X_train)\n",
    "y_train = y_sc.fit_transform(y_train)\n",
    "\n",
    "print('Predicting...')\n",
    "y_pred = regressor.predict(X_sc.transform(X_test))\n",
    "t2 = time.time()\n",
    "print(\"Inversely Transforming value data \")\n",
    "y_pred = y_sc.inverse_transform(y_pred.reshape(-1, 1))\n",
    "print('Predicted all!')\n",
    "print(y_pred)"
   ]
  },
  {
   "cell_type": "code",
   "execution_count": 17,
   "id": "a96cf769-e458-4f52-addf-b09fb04204e4",
   "metadata": {},
   "outputs": [],
   "source": [
    "y_test = y_test.to_numpy()"
   ]
  },
  {
   "cell_type": "code",
   "execution_count": 18,
   "id": "6733d374-cf1d-4d25-8670-218e4cf22c8d",
   "metadata": {},
   "outputs": [],
   "source": [
    "y_test = y_test.flatten()\n",
    "y_pred = y_pred.flatten()\n",
    "y_test_series = pd.Series(y_test)\n",
    "y_pred_series = pd.Series(y_pred)\n",
    "df = pd.DataFrame({'Predicted value': y_pred, 'Real Value': y_test})\n",
    "df\n",
    "df.to_csv('WithDist_SVM/Dist_predictions_SVR540000.csv',index=False )"
   ]
  },
  {
   "cell_type": "code",
   "execution_count": 21,
   "id": "7026991b-9d19-484b-a558-0cd8f599b268",
   "metadata": {},
   "outputs": [
    {
     "name": "stdout",
     "output_type": "stream",
     "text": [
      "Score for classifier: 0.13442665073084614\n",
      "Mean square error is ->  390.77708059833355\n",
      "Root Mean square error is ->  19.768082370284013\n",
      "Mean absolute error is ->  2.401078771735941\n"
     ]
    }
   ],
   "source": [
    "#Get Report\n",
    "print(\"Score for classifier:\", r2_score(y_test,y_pred))\n",
    "print(\"Mean square error is -> \",mean_squared_error(y_test, y_pred))\n",
    "print(\"Root Mean square error is -> \",math.sqrt(mean_squared_error(y_test, y_pred)))\n",
    "print(\"Mean absolute error is -> \",mean_absolute_error(y_test, y_pred))\n",
    "\n",
    "# Save report \n",
    "report = { \n",
    "    'version': 'SVM with Dist',\n",
    "    'number_rows': 540000,\n",
    "    # 'train time':time_train,\n",
    "    # 'predict time': time_predict,\n",
    "    'r2_score': r2_score(y_test,y_pred),\n",
    "    'MSE': mean_squared_error(y_test, y_pred),\n",
    "    'RMSE': math.sqrt(mean_squared_error(y_test, y_pred)),\n",
    "    'MAE': mean_absolute_error(y_test, y_pred)}\n",
    "\n",
    "final_report = pd.DataFrame.from_dict(report.items())\n",
    "final_report.to_csv('WithDist_SVM/report_SVR540000.csv',index=False )"
   ]
  },
  {
   "cell_type": "code",
   "execution_count": null,
   "id": "4d8c315c-b51d-4aa1-b0d8-6613573dc849",
   "metadata": {},
   "outputs": [],
   "source": []
  }
 ],
 "metadata": {
  "kernelspec": {
   "display_name": "ml",
   "language": "python",
   "name": "ml"
  },
  "language_info": {
   "codemirror_mode": {
    "name": "ipython",
    "version": 3
   },
   "file_extension": ".py",
   "mimetype": "text/x-python",
   "name": "python",
   "nbconvert_exporter": "python",
   "pygments_lexer": "ipython3",
   "version": "3.9.7"
  }
 },
 "nbformat": 4,
 "nbformat_minor": 5
}
