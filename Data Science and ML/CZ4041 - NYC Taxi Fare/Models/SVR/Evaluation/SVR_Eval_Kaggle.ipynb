{
 "cells": [
  {
   "cell_type": "markdown",
   "id": "e1e96e47-4e1d-4b5e-8e0e-407e5008c4d8",
   "metadata": {},
   "source": [
    "## SVM Model"
   ]
  },
  {
   "cell_type": "code",
   "execution_count": 1,
   "id": "34308d9e-a5a4-464a-bc74-401ca4a00bfb",
   "metadata": {},
   "outputs": [
    {
     "name": "stdout",
     "output_type": "stream",
     "text": [
      "Importing Libraries...\n",
      "Successfully imported!\n"
     ]
    }
   ],
   "source": [
    "print(\"Importing Libraries...\")\n",
    "import pandas as pd\n",
    "import numpy as np\n",
    "import matplotlib.pyplot as plt\n",
    "from sklearn.model_selection import train_test_split\n",
    "from sklearn.preprocessing import StandardScaler\n",
    "import pickle\n",
    "import time\n",
    "from sklearn.svm import SVR\n",
    "from sklearn.metrics import mean_squared_error\n",
    "from sklearn.metrics import mean_absolute_error\n",
    "import math\n",
    "from sklearn.metrics import r2_score\n",
    "from sklearn.utils import shuffle\n",
    "import ast\n",
    "print(\"Successfully imported!\")"
   ]
  },
  {
   "cell_type": "markdown",
   "id": "dec4a17f-bc7b-4d26-87d3-0a94f3624374",
   "metadata": {},
   "source": [
    "### Prepare dataset for fitting in model"
   ]
  },
  {
   "cell_type": "code",
   "execution_count": 2,
   "id": "c2ebf250-568f-4d42-ba1a-b02393de0b3b",
   "metadata": {},
   "outputs": [
    {
     "name": "stdout",
     "output_type": "stream",
     "text": [
      "Reading Datafile...\n",
      "Success!\n"
     ]
    }
   ],
   "source": [
    "print(\"Reading Datafile...\")\n",
    "checkpoint5 = pd.read_csv('checkpoint-5.csv')\n",
    "print(\"Success!\")"
   ]
  },
  {
   "cell_type": "code",
   "execution_count": 3,
   "id": "5c76120c-efbd-4a29-8c0f-f94dfaf11741",
   "metadata": {},
   "outputs": [
    {
     "name": "stdout",
     "output_type": "stream",
     "text": [
      "Reading index of train data...\n",
      "Length of the train indexes is... 540000\n",
      "17094116\n"
     ]
    }
   ],
   "source": [
    "print(\"Reading index of train data...\") \n",
    "with open(\"SVM Model/train_idx.txt\") as file:\n",
    "    train_idx_str = file.read()\n",
    "    file.close()\n",
    "\n",
    "train_idx = ast.literal_eval(train_idx_str)\n",
    "print(\"Length of the train indexes is...\", len(train_idx))\n",
    "print(train_idx[0])"
   ]
  },
  {
   "cell_type": "code",
   "execution_count": 4,
   "id": "c60262ec-4667-4c84-adb8-f6ca56f43b37",
   "metadata": {},
   "outputs": [
    {
     "name": "stdout",
     "output_type": "stream",
     "text": [
      "Getting dataframe of train set...\n",
      "Seperated dataframe for both train and test\n"
     ]
    }
   ],
   "source": [
    "print(\"Getting dataframe of train set...\")\n",
    "train_set = checkpoint5.loc[train_idx]\n",
    "checkpoint5.drop(axis=0, index=train_idx,inplace=True)\n",
    "print(\"Seperated dataframe for both train and test\")"
   ]
  },
  {
   "cell_type": "code",
   "execution_count": 5,
   "id": "426e0d82-9d46-46ef-ba86-f2c910b67f64",
   "metadata": {},
   "outputs": [
    {
     "name": "stdout",
     "output_type": "stream",
     "text": [
      "Obtaining labels for train set...\n",
      "Obtained labels!\n",
      "Train set is ready!\n"
     ]
    }
   ],
   "source": [
    "print(\"Obtaining labels for train set...\")\n",
    "cols = 'fare_amount'\n",
    "y_train = train_set[[cols]]\n",
    "print(\"Obtained labels!\")\n",
    "del train_set['time']\n",
    "del train_set['fare_amount']\n",
    "del train_set['pickup_longitude']\n",
    "del train_set['pickup_latitude']\n",
    "del train_set['dropoff_longitude']\n",
    "del train_set['dropoff_latitude']\n",
    "print(\"Train set is ready!\")"
   ]
  },
  {
   "cell_type": "code",
   "execution_count": 6,
   "id": "872d75d7-6ecc-4709-8711-076c4d1632b1",
   "metadata": {},
   "outputs": [],
   "source": [
    "X_train = train_set"
   ]
  },
  {
   "cell_type": "code",
   "execution_count": 7,
   "id": "4816e904-8c67-45b5-a4a3-ec25729eb74b",
   "metadata": {},
   "outputs": [
    {
     "data": {
      "text/html": [
       "<div>\n",
       "<style scoped>\n",
       "    .dataframe tbody tr th:only-of-type {\n",
       "        vertical-align: middle;\n",
       "    }\n",
       "\n",
       "    .dataframe tbody tr th {\n",
       "        vertical-align: top;\n",
       "    }\n",
       "\n",
       "    .dataframe thead th {\n",
       "        text-align: right;\n",
       "    }\n",
       "</style>\n",
       "<table border=\"1\" class=\"dataframe\">\n",
       "  <thead>\n",
       "    <tr style=\"text-align: right;\">\n",
       "      <th></th>\n",
       "      <th>passenger_count</th>\n",
       "      <th>day</th>\n",
       "      <th>weekend</th>\n",
       "      <th>holiday</th>\n",
       "      <th>peak_hour</th>\n",
       "      <th>hotspot</th>\n",
       "      <th>dist</th>\n",
       "    </tr>\n",
       "  </thead>\n",
       "  <tbody>\n",
       "    <tr>\n",
       "      <th>17094116</th>\n",
       "      <td>1</td>\n",
       "      <td>3</td>\n",
       "      <td>False</td>\n",
       "      <td>0</td>\n",
       "      <td>0</td>\n",
       "      <td>1</td>\n",
       "      <td>0.696993</td>\n",
       "    </tr>\n",
       "    <tr>\n",
       "      <th>53649197</th>\n",
       "      <td>1</td>\n",
       "      <td>5</td>\n",
       "      <td>True</td>\n",
       "      <td>0</td>\n",
       "      <td>0</td>\n",
       "      <td>0</td>\n",
       "      <td>1.594699</td>\n",
       "    </tr>\n",
       "    <tr>\n",
       "      <th>38088232</th>\n",
       "      <td>5</td>\n",
       "      <td>1</td>\n",
       "      <td>False</td>\n",
       "      <td>0</td>\n",
       "      <td>1</td>\n",
       "      <td>0</td>\n",
       "      <td>3.154141</td>\n",
       "    </tr>\n",
       "    <tr>\n",
       "      <th>29785639</th>\n",
       "      <td>1</td>\n",
       "      <td>2</td>\n",
       "      <td>False</td>\n",
       "      <td>0</td>\n",
       "      <td>0</td>\n",
       "      <td>0</td>\n",
       "      <td>2.620846</td>\n",
       "    </tr>\n",
       "    <tr>\n",
       "      <th>24305630</th>\n",
       "      <td>1</td>\n",
       "      <td>1</td>\n",
       "      <td>False</td>\n",
       "      <td>0</td>\n",
       "      <td>0</td>\n",
       "      <td>0</td>\n",
       "      <td>6.734819</td>\n",
       "    </tr>\n",
       "    <tr>\n",
       "      <th>...</th>\n",
       "      <td>...</td>\n",
       "      <td>...</td>\n",
       "      <td>...</td>\n",
       "      <td>...</td>\n",
       "      <td>...</td>\n",
       "      <td>...</td>\n",
       "      <td>...</td>\n",
       "    </tr>\n",
       "    <tr>\n",
       "      <th>12888383</th>\n",
       "      <td>1</td>\n",
       "      <td>6</td>\n",
       "      <td>True</td>\n",
       "      <td>0</td>\n",
       "      <td>0</td>\n",
       "      <td>1</td>\n",
       "      <td>4.731678</td>\n",
       "    </tr>\n",
       "    <tr>\n",
       "      <th>38936098</th>\n",
       "      <td>1</td>\n",
       "      <td>3</td>\n",
       "      <td>False</td>\n",
       "      <td>0</td>\n",
       "      <td>1</td>\n",
       "      <td>0</td>\n",
       "      <td>3.661563</td>\n",
       "    </tr>\n",
       "    <tr>\n",
       "      <th>189012</th>\n",
       "      <td>2</td>\n",
       "      <td>6</td>\n",
       "      <td>True</td>\n",
       "      <td>0</td>\n",
       "      <td>0</td>\n",
       "      <td>0</td>\n",
       "      <td>4.128879</td>\n",
       "    </tr>\n",
       "    <tr>\n",
       "      <th>37063756</th>\n",
       "      <td>5</td>\n",
       "      <td>3</td>\n",
       "      <td>False</td>\n",
       "      <td>0</td>\n",
       "      <td>1</td>\n",
       "      <td>0</td>\n",
       "      <td>18.904935</td>\n",
       "    </tr>\n",
       "    <tr>\n",
       "      <th>39903229</th>\n",
       "      <td>3</td>\n",
       "      <td>5</td>\n",
       "      <td>True</td>\n",
       "      <td>0</td>\n",
       "      <td>0</td>\n",
       "      <td>0</td>\n",
       "      <td>2.081787</td>\n",
       "    </tr>\n",
       "  </tbody>\n",
       "</table>\n",
       "<p>540000 rows × 7 columns</p>\n",
       "</div>"
      ],
      "text/plain": [
       "          passenger_count  day  weekend  holiday  peak_hour  hotspot  \\\n",
       "17094116                1    3    False        0          0        1   \n",
       "53649197                1    5     True        0          0        0   \n",
       "38088232                5    1    False        0          1        0   \n",
       "29785639                1    2    False        0          0        0   \n",
       "24305630                1    1    False        0          0        0   \n",
       "...                   ...  ...      ...      ...        ...      ...   \n",
       "12888383                1    6     True        0          0        1   \n",
       "38936098                1    3    False        0          1        0   \n",
       "189012                  2    6     True        0          0        0   \n",
       "37063756                5    3    False        0          1        0   \n",
       "39903229                3    5     True        0          0        0   \n",
       "\n",
       "               dist  \n",
       "17094116   0.696993  \n",
       "53649197   1.594699  \n",
       "38088232   3.154141  \n",
       "29785639   2.620846  \n",
       "24305630   6.734819  \n",
       "...             ...  \n",
       "12888383   4.731678  \n",
       "38936098   3.661563  \n",
       "189012     4.128879  \n",
       "37063756  18.904935  \n",
       "39903229   2.081787  \n",
       "\n",
       "[540000 rows x 7 columns]"
      ]
     },
     "execution_count": 7,
     "metadata": {},
     "output_type": "execute_result"
    }
   ],
   "source": [
    "X_train"
   ]
  },
  {
   "cell_type": "code",
   "execution_count": 8,
   "id": "450b6a83-24dd-4fb0-abe1-6d1d18f6d07e",
   "metadata": {},
   "outputs": [
    {
     "data": {
      "text/html": [
       "<div>\n",
       "<style scoped>\n",
       "    .dataframe tbody tr th:only-of-type {\n",
       "        vertical-align: middle;\n",
       "    }\n",
       "\n",
       "    .dataframe tbody tr th {\n",
       "        vertical-align: top;\n",
       "    }\n",
       "\n",
       "    .dataframe thead th {\n",
       "        text-align: right;\n",
       "    }\n",
       "</style>\n",
       "<table border=\"1\" class=\"dataframe\">\n",
       "  <thead>\n",
       "    <tr style=\"text-align: right;\">\n",
       "      <th></th>\n",
       "      <th>fare_amount</th>\n",
       "    </tr>\n",
       "  </thead>\n",
       "  <tbody>\n",
       "    <tr>\n",
       "      <th>17094116</th>\n",
       "      <td>4.50</td>\n",
       "    </tr>\n",
       "    <tr>\n",
       "      <th>53649197</th>\n",
       "      <td>4.90</td>\n",
       "    </tr>\n",
       "    <tr>\n",
       "      <th>38088232</th>\n",
       "      <td>10.90</td>\n",
       "    </tr>\n",
       "    <tr>\n",
       "      <th>29785639</th>\n",
       "      <td>7.30</td>\n",
       "    </tr>\n",
       "    <tr>\n",
       "      <th>24305630</th>\n",
       "      <td>27.00</td>\n",
       "    </tr>\n",
       "    <tr>\n",
       "      <th>...</th>\n",
       "      <td>...</td>\n",
       "    </tr>\n",
       "    <tr>\n",
       "      <th>12888383</th>\n",
       "      <td>14.50</td>\n",
       "    </tr>\n",
       "    <tr>\n",
       "      <th>38936098</th>\n",
       "      <td>11.70</td>\n",
       "    </tr>\n",
       "    <tr>\n",
       "      <th>189012</th>\n",
       "      <td>6.10</td>\n",
       "    </tr>\n",
       "    <tr>\n",
       "      <th>37063756</th>\n",
       "      <td>57.54</td>\n",
       "    </tr>\n",
       "    <tr>\n",
       "      <th>39903229</th>\n",
       "      <td>6.10</td>\n",
       "    </tr>\n",
       "  </tbody>\n",
       "</table>\n",
       "<p>540000 rows × 1 columns</p>\n",
       "</div>"
      ],
      "text/plain": [
       "          fare_amount\n",
       "17094116         4.50\n",
       "53649197         4.90\n",
       "38088232        10.90\n",
       "29785639         7.30\n",
       "24305630        27.00\n",
       "...               ...\n",
       "12888383        14.50\n",
       "38936098        11.70\n",
       "189012           6.10\n",
       "37063756        57.54\n",
       "39903229         6.10\n",
       "\n",
       "[540000 rows x 1 columns]"
      ]
     },
     "execution_count": 8,
     "metadata": {},
     "output_type": "execute_result"
    }
   ],
   "source": [
    "y_train"
   ]
  },
  {
   "cell_type": "markdown",
   "id": "5dbfc394-b3d6-46fc-958a-52c781ad1cec",
   "metadata": {},
   "source": [
    "### Test set preparation"
   ]
  },
  {
   "cell_type": "code",
   "execution_count": 9,
   "id": "57a47a2b-cb7f-4b68-b0a7-3c562fcf4dd9",
   "metadata": {},
   "outputs": [
    {
     "name": "stdout",
     "output_type": "stream",
     "text": [
      "Reading Datafile...\n",
      "Success!\n"
     ]
    }
   ],
   "source": [
    "print(\"Reading Datafile...\")\n",
    "test_set = pd.read_csv('processed_test.csv')\n",
    "print(\"Success!\")\n",
    "test_key_series = test_set['key'].squeeze()"
   ]
  },
  {
   "cell_type": "code",
   "execution_count": 10,
   "id": "375e7ab2-abb1-4b8e-8e06-acbc93b9e6e7",
   "metadata": {},
   "outputs": [
    {
     "name": "stdout",
     "output_type": "stream",
     "text": [
      "Removing extra columns...\n",
      "Test set is ready!\n"
     ]
    }
   ],
   "source": [
    "print(\"Removing extra columns...\")\n",
    "del test_set['key']\n",
    "del test_set['time']\n",
    "del test_set['pickup_longitude']\n",
    "del test_set['pickup_latitude']\n",
    "del test_set['dropoff_longitude']\n",
    "del test_set['dropoff_latitude']\n",
    "print(\"Test set is ready!\")"
   ]
  },
  {
   "cell_type": "code",
   "execution_count": 11,
   "id": "2ec3c4f7-482a-426e-93e6-01f6eeccf93e",
   "metadata": {},
   "outputs": [],
   "source": [
    "X_test = test_set"
   ]
  },
  {
   "cell_type": "code",
   "execution_count": 12,
   "id": "88086ce2-2e01-4835-ae46-ca986db8e27b",
   "metadata": {},
   "outputs": [
    {
     "data": {
      "text/html": [
       "<div>\n",
       "<style scoped>\n",
       "    .dataframe tbody tr th:only-of-type {\n",
       "        vertical-align: middle;\n",
       "    }\n",
       "\n",
       "    .dataframe tbody tr th {\n",
       "        vertical-align: top;\n",
       "    }\n",
       "\n",
       "    .dataframe thead th {\n",
       "        text-align: right;\n",
       "    }\n",
       "</style>\n",
       "<table border=\"1\" class=\"dataframe\">\n",
       "  <thead>\n",
       "    <tr style=\"text-align: right;\">\n",
       "      <th></th>\n",
       "      <th>passenger_count</th>\n",
       "      <th>day</th>\n",
       "      <th>weekend</th>\n",
       "      <th>holiday</th>\n",
       "      <th>peak_hour</th>\n",
       "      <th>hotspot</th>\n",
       "      <th>dist</th>\n",
       "    </tr>\n",
       "  </thead>\n",
       "  <tbody>\n",
       "    <tr>\n",
       "      <th>0</th>\n",
       "      <td>1</td>\n",
       "      <td>1</td>\n",
       "      <td>False</td>\n",
       "      <td>0</td>\n",
       "      <td>0</td>\n",
       "      <td>0</td>\n",
       "      <td>2.323260</td>\n",
       "    </tr>\n",
       "    <tr>\n",
       "      <th>1</th>\n",
       "      <td>1</td>\n",
       "      <td>1</td>\n",
       "      <td>False</td>\n",
       "      <td>0</td>\n",
       "      <td>0</td>\n",
       "      <td>0</td>\n",
       "      <td>2.425353</td>\n",
       "    </tr>\n",
       "    <tr>\n",
       "      <th>2</th>\n",
       "      <td>1</td>\n",
       "      <td>5</td>\n",
       "      <td>True</td>\n",
       "      <td>0</td>\n",
       "      <td>0</td>\n",
       "      <td>0</td>\n",
       "      <td>0.618628</td>\n",
       "    </tr>\n",
       "    <tr>\n",
       "      <th>3</th>\n",
       "      <td>1</td>\n",
       "      <td>5</td>\n",
       "      <td>True</td>\n",
       "      <td>0</td>\n",
       "      <td>0</td>\n",
       "      <td>0</td>\n",
       "      <td>1.961033</td>\n",
       "    </tr>\n",
       "    <tr>\n",
       "      <th>4</th>\n",
       "      <td>1</td>\n",
       "      <td>5</td>\n",
       "      <td>True</td>\n",
       "      <td>0</td>\n",
       "      <td>0</td>\n",
       "      <td>1</td>\n",
       "      <td>5.387301</td>\n",
       "    </tr>\n",
       "    <tr>\n",
       "      <th>...</th>\n",
       "      <td>...</td>\n",
       "      <td>...</td>\n",
       "      <td>...</td>\n",
       "      <td>...</td>\n",
       "      <td>...</td>\n",
       "      <td>...</td>\n",
       "      <td>...</td>\n",
       "    </tr>\n",
       "    <tr>\n",
       "      <th>9909</th>\n",
       "      <td>6</td>\n",
       "      <td>6</td>\n",
       "      <td>True</td>\n",
       "      <td>0</td>\n",
       "      <td>0</td>\n",
       "      <td>0</td>\n",
       "      <td>2.124874</td>\n",
       "    </tr>\n",
       "    <tr>\n",
       "      <th>9910</th>\n",
       "      <td>6</td>\n",
       "      <td>0</td>\n",
       "      <td>False</td>\n",
       "      <td>0</td>\n",
       "      <td>1</td>\n",
       "      <td>0</td>\n",
       "      <td>3.270969</td>\n",
       "    </tr>\n",
       "    <tr>\n",
       "      <th>9911</th>\n",
       "      <td>6</td>\n",
       "      <td>6</td>\n",
       "      <td>True</td>\n",
       "      <td>0</td>\n",
       "      <td>0</td>\n",
       "      <td>0</td>\n",
       "      <td>19.183941</td>\n",
       "    </tr>\n",
       "    <tr>\n",
       "      <th>9912</th>\n",
       "      <td>6</td>\n",
       "      <td>5</td>\n",
       "      <td>True</td>\n",
       "      <td>0</td>\n",
       "      <td>0</td>\n",
       "      <td>0</td>\n",
       "      <td>8.343486</td>\n",
       "    </tr>\n",
       "    <tr>\n",
       "      <th>9913</th>\n",
       "      <td>6</td>\n",
       "      <td>6</td>\n",
       "      <td>True</td>\n",
       "      <td>0</td>\n",
       "      <td>0</td>\n",
       "      <td>1</td>\n",
       "      <td>1.180825</td>\n",
       "    </tr>\n",
       "  </tbody>\n",
       "</table>\n",
       "<p>9914 rows × 7 columns</p>\n",
       "</div>"
      ],
      "text/plain": [
       "      passenger_count  day  weekend  holiday  peak_hour  hotspot       dist\n",
       "0                   1    1    False        0          0        0   2.323260\n",
       "1                   1    1    False        0          0        0   2.425353\n",
       "2                   1    5     True        0          0        0   0.618628\n",
       "3                   1    5     True        0          0        0   1.961033\n",
       "4                   1    5     True        0          0        1   5.387301\n",
       "...               ...  ...      ...      ...        ...      ...        ...\n",
       "9909                6    6     True        0          0        0   2.124874\n",
       "9910                6    0    False        0          1        0   3.270969\n",
       "9911                6    6     True        0          0        0  19.183941\n",
       "9912                6    5     True        0          0        0   8.343486\n",
       "9913                6    6     True        0          0        1   1.180825\n",
       "\n",
       "[9914 rows x 7 columns]"
      ]
     },
     "execution_count": 12,
     "metadata": {},
     "output_type": "execute_result"
    }
   ],
   "source": [
    "X_test"
   ]
  },
  {
   "cell_type": "markdown",
   "id": "be7ceec9-7deb-4238-99fd-c9a385382c7d",
   "metadata": {},
   "source": [
    "#### Load Model"
   ]
  },
  {
   "cell_type": "code",
   "execution_count": 13,
   "id": "a6dc5d94-1ca6-49ae-81f9-5fb90c93e8db",
   "metadata": {},
   "outputs": [],
   "source": [
    "with open('SVM Model/Dist_SVM_Experiment_540000_v2.pkl', 'rb') as f:\n",
    "\n",
    "    regressor = pickle.load(f)"
   ]
  },
  {
   "cell_type": "code",
   "execution_count": 14,
   "id": "b807e110-5a24-4a02-9fdd-d986752e8180",
   "metadata": {},
   "outputs": [
    {
     "name": "stdout",
     "output_type": "stream",
     "text": [
      "Fitting...\n"
     ]
    }
   ],
   "source": [
    "print(\"Fitting...\")\n",
    "X_sc = StandardScaler()\n",
    "y_sc = StandardScaler()\n",
    "X_train = X_sc.fit_transform(X_train)\n",
    "y_train = y_sc.fit_transform(y_train)"
   ]
  },
  {
   "cell_type": "code",
   "execution_count": 15,
   "id": "c3a1074c-2ed9-479f-a173-40111f93b500",
   "metadata": {},
   "outputs": [
    {
     "name": "stdout",
     "output_type": "stream",
     "text": [
      "Predicting...\n",
      "Inversely Transforming value data \n",
      "Predicted all!\n",
      "[[ 8.43326717]\n",
      " [ 8.66309583]\n",
      " [ 4.49796604]\n",
      " ...\n",
      " [41.98811168]\n",
      " [21.51579096]\n",
      " [ 6.67586009]]\n"
     ]
    }
   ],
   "source": [
    "print('Predicting...')\n",
    "t1 = time.time()\n",
    "y_pred = regressor.predict(X_sc.transform(X_test))\n",
    "t2 = time.time()\n",
    "print(\"Inversely Transforming value data \")\n",
    "y_pred = y_sc.inverse_transform(y_pred.reshape(-1, 1))\n",
    "print('Predicted all!')\n",
    "print(y_pred)"
   ]
  },
  {
   "cell_type": "code",
   "execution_count": 17,
   "id": "6733d374-cf1d-4d25-8670-218e4cf22c8d",
   "metadata": {},
   "outputs": [],
   "source": [
    "new_y_pred= []\n",
    "for a in y_pred: \n",
    "    new_value = float(\"%.2f\" % a)\n",
    "    new_y_pred.append(new_value)\n",
    "y_pred_series = pd.Series(new_y_pred)\n",
    "df = pd.DataFrame({'key': test_key_series,'fare_amount': new_y_pred})\n",
    "df\n",
    "df.to_csv('WithDist_SVM/OnTest/Dist_predictions_SVR540000_TESTSET2.csv',index=False )"
   ]
  },
  {
   "cell_type": "code",
   "execution_count": 21,
   "id": "4d8c315c-b51d-4aa1-b0d8-6613573dc849",
   "metadata": {},
   "outputs": [
    {
     "name": "stdout",
     "output_type": "stream",
     "text": [
      "Reading Datafile...\n",
      "Success!\n"
     ]
    }
   ],
   "source": [
    "print(\"Reading Datafile...\")\n",
    "prediction = pd.read_csv('WithDist_SVM/OnTest/Dist_predictions_SVR540000_TESTSET2.csv')\n",
    "print(\"Success!\")"
   ]
  },
  {
   "cell_type": "code",
   "execution_count": 22,
   "id": "42c871ad-21d3-44d5-a214-3b4dda91e589",
   "metadata": {},
   "outputs": [
    {
     "data": {
      "text/html": [
       "<div>\n",
       "<style scoped>\n",
       "    .dataframe tbody tr th:only-of-type {\n",
       "        vertical-align: middle;\n",
       "    }\n",
       "\n",
       "    .dataframe tbody tr th {\n",
       "        vertical-align: top;\n",
       "    }\n",
       "\n",
       "    .dataframe thead th {\n",
       "        text-align: right;\n",
       "    }\n",
       "</style>\n",
       "<table border=\"1\" class=\"dataframe\">\n",
       "  <thead>\n",
       "    <tr style=\"text-align: right;\">\n",
       "      <th></th>\n",
       "      <th>key</th>\n",
       "      <th>fare_amount</th>\n",
       "    </tr>\n",
       "  </thead>\n",
       "  <tbody>\n",
       "    <tr>\n",
       "      <th>0</th>\n",
       "      <td>2015-01-27 13:08:24.0000002</td>\n",
       "      <td>8.43</td>\n",
       "    </tr>\n",
       "    <tr>\n",
       "      <th>1</th>\n",
       "      <td>2015-01-27 13:08:24.0000003</td>\n",
       "      <td>8.66</td>\n",
       "    </tr>\n",
       "    <tr>\n",
       "      <th>2</th>\n",
       "      <td>2011-10-08 11:53:44.0000002</td>\n",
       "      <td>4.50</td>\n",
       "    </tr>\n",
       "    <tr>\n",
       "      <th>3</th>\n",
       "      <td>2012-12-01 21:12:12.0000002</td>\n",
       "      <td>7.50</td>\n",
       "    </tr>\n",
       "    <tr>\n",
       "      <th>4</th>\n",
       "      <td>2012-12-01 21:12:12.0000003</td>\n",
       "      <td>15.19</td>\n",
       "    </tr>\n",
       "    <tr>\n",
       "      <th>...</th>\n",
       "      <td>...</td>\n",
       "      <td>...</td>\n",
       "    </tr>\n",
       "    <tr>\n",
       "      <th>9909</th>\n",
       "      <td>2015-05-10 12:37:51.0000002</td>\n",
       "      <td>8.34</td>\n",
       "    </tr>\n",
       "    <tr>\n",
       "      <th>9910</th>\n",
       "      <td>2015-01-12 17:05:51.0000001</td>\n",
       "      <td>10.87</td>\n",
       "    </tr>\n",
       "    <tr>\n",
       "      <th>9911</th>\n",
       "      <td>2015-04-19 20:44:15.0000001</td>\n",
       "      <td>41.99</td>\n",
       "    </tr>\n",
       "    <tr>\n",
       "      <th>9912</th>\n",
       "      <td>2015-01-31 01:05:19.0000005</td>\n",
       "      <td>21.52</td>\n",
       "    </tr>\n",
       "    <tr>\n",
       "      <th>9913</th>\n",
       "      <td>2015-01-18 14:06:23.0000006</td>\n",
       "      <td>6.68</td>\n",
       "    </tr>\n",
       "  </tbody>\n",
       "</table>\n",
       "<p>9914 rows × 2 columns</p>\n",
       "</div>"
      ],
      "text/plain": [
       "                              key  fare_amount\n",
       "0     2015-01-27 13:08:24.0000002         8.43\n",
       "1     2015-01-27 13:08:24.0000003         8.66\n",
       "2     2011-10-08 11:53:44.0000002         4.50\n",
       "3     2012-12-01 21:12:12.0000002         7.50\n",
       "4     2012-12-01 21:12:12.0000003        15.19\n",
       "...                           ...          ...\n",
       "9909  2015-05-10 12:37:51.0000002         8.34\n",
       "9910  2015-01-12 17:05:51.0000001        10.87\n",
       "9911  2015-04-19 20:44:15.0000001        41.99\n",
       "9912  2015-01-31 01:05:19.0000005        21.52\n",
       "9913  2015-01-18 14:06:23.0000006         6.68\n",
       "\n",
       "[9914 rows x 2 columns]"
      ]
     },
     "execution_count": 22,
     "metadata": {},
     "output_type": "execute_result"
    }
   ],
   "source": [
    "prediction"
   ]
  },
  {
   "cell_type": "code",
   "execution_count": null,
   "id": "4886d6a2-6073-42e3-92ee-3c26cf1dc334",
   "metadata": {},
   "outputs": [],
   "source": []
  }
 ],
 "metadata": {
  "kernelspec": {
   "display_name": "ml",
   "language": "python",
   "name": "ml"
  },
  "language_info": {
   "codemirror_mode": {
    "name": "ipython",
    "version": 3
   },
   "file_extension": ".py",
   "mimetype": "text/x-python",
   "name": "python",
   "nbconvert_exporter": "python",
   "pygments_lexer": "ipython3",
   "version": "3.9.7"
  }
 },
 "nbformat": 4,
 "nbformat_minor": 5
}
