{
 "cells": [
  {
   "cell_type": "markdown",
   "id": "31b727b7",
   "metadata": {
    "jp-MarkdownHeadingCollapsed": true,
    "tags": []
   },
   "source": [
    "# CZ4041 - Course Project - Taxi Fare"
   ]
  },
  {
   "cell_type": "markdown",
   "id": "ee73b478",
   "metadata": {},
   "source": [
    "# Exploratory Data Analysis"
   ]
  },
  {
   "cell_type": "markdown",
   "id": "63e83a6d",
   "metadata": {},
   "source": [
    "## Importing the Libraries"
   ]
  },
  {
   "cell_type": "code",
   "execution_count": 15,
   "id": "c0532dab",
   "metadata": {},
   "outputs": [
    {
     "data": {
      "text/html": [
       "        <script type=\"text/javascript\">\n",
       "        window.PlotlyConfig = {MathJaxConfig: 'local'};\n",
       "        if (window.MathJax) {MathJax.Hub.Config({SVG: {font: \"STIX-Web\"}});}\n",
       "        if (typeof require !== 'undefined') {\n",
       "        require.undef(\"plotly\");\n",
       "        requirejs.config({\n",
       "            paths: {\n",
       "                'plotly': ['https://cdn.plot.ly/plotly-2.11.1.min']\n",
       "            }\n",
       "        });\n",
       "        require(['plotly'], function(Plotly) {\n",
       "            window._Plotly = Plotly;\n",
       "        });\n",
       "        }\n",
       "        </script>\n",
       "        "
      ]
     },
     "metadata": {},
     "output_type": "display_data"
    }
   ],
   "source": [
    "import pandas as pd\n",
    "import numpy as np\n",
    "import matplotlib.pyplot as plt\n",
    "import tensorflow as tf\n",
    "import seaborn as sb\n",
    "import datetime as dt\n",
    "from pandas.tseries.holiday import USFederalHolidayCalendar as calendar\n",
    "from math import *\n",
    "import json\n",
    "import plotly.io as pio\n",
    "import plotly.express as px\n",
    "from plotly.offline import download_plotlyjs, init_notebook_mode, iplot\n",
    "init_notebook_mode(connected=True)"
   ]
  },
  {
   "cell_type": "markdown",
   "id": "a0448725",
   "metadata": {
    "tags": []
   },
   "source": [
    "## Loading the Datasets"
   ]
  },
  {
   "cell_type": "code",
   "execution_count": 18,
   "id": "3165216d",
   "metadata": {},
   "outputs": [],
   "source": [
    "df_train = pd.read_csv(\"D:/ML Files/train.csv\")"
   ]
  },
  {
   "cell_type": "code",
   "execution_count": 12,
   "id": "ef9dcbc9-3ee2-46b3-8a93-453acc7c53f3",
   "metadata": {},
   "outputs": [],
   "source": [
    "df_train_2 = pd.read_csv(\"D:/ML Files/train.csv\", nrows=1000)"
   ]
  },
  {
   "cell_type": "markdown",
   "id": "d1207590-db37-4e73-bfb3-3e03e6ddb633",
   "metadata": {},
   "source": [
    "### Understanding Dataset we are working with"
   ]
  },
  {
   "cell_type": "markdown",
   "id": "744c6971-4c05-47c0-acac-d888d2b1cfe1",
   "metadata": {},
   "source": [
    "We will explore the dataset so as to identify the outliers and remove noise in dataset."
   ]
  },
  {
   "cell_type": "code",
   "execution_count": 3,
   "id": "0409b353",
   "metadata": {},
   "outputs": [
    {
     "data": {
      "text/html": [
       "<div>\n",
       "<style scoped>\n",
       "    .dataframe tbody tr th:only-of-type {\n",
       "        vertical-align: middle;\n",
       "    }\n",
       "\n",
       "    .dataframe tbody tr th {\n",
       "        vertical-align: top;\n",
       "    }\n",
       "\n",
       "    .dataframe thead th {\n",
       "        text-align: right;\n",
       "    }\n",
       "</style>\n",
       "<table border=\"1\" class=\"dataframe\">\n",
       "  <thead>\n",
       "    <tr style=\"text-align: right;\">\n",
       "      <th></th>\n",
       "      <th>key</th>\n",
       "      <th>fare_amount</th>\n",
       "      <th>pickup_datetime</th>\n",
       "      <th>pickup_longitude</th>\n",
       "      <th>pickup_latitude</th>\n",
       "      <th>dropoff_longitude</th>\n",
       "      <th>dropoff_latitude</th>\n",
       "      <th>passenger_count</th>\n",
       "    </tr>\n",
       "  </thead>\n",
       "  <tbody>\n",
       "    <tr>\n",
       "      <th>0</th>\n",
       "      <td>2009-06-15 17:26:21.0000001</td>\n",
       "      <td>4.5</td>\n",
       "      <td>2009-06-15 17:26:21 UTC</td>\n",
       "      <td>-73.844311</td>\n",
       "      <td>40.721319</td>\n",
       "      <td>-73.841610</td>\n",
       "      <td>40.712278</td>\n",
       "      <td>1</td>\n",
       "    </tr>\n",
       "    <tr>\n",
       "      <th>1</th>\n",
       "      <td>2010-01-05 16:52:16.0000002</td>\n",
       "      <td>16.9</td>\n",
       "      <td>2010-01-05 16:52:16 UTC</td>\n",
       "      <td>-74.016048</td>\n",
       "      <td>40.711303</td>\n",
       "      <td>-73.979268</td>\n",
       "      <td>40.782004</td>\n",
       "      <td>1</td>\n",
       "    </tr>\n",
       "    <tr>\n",
       "      <th>2</th>\n",
       "      <td>2011-08-18 00:35:00.00000049</td>\n",
       "      <td>5.7</td>\n",
       "      <td>2011-08-18 00:35:00 UTC</td>\n",
       "      <td>-73.982738</td>\n",
       "      <td>40.761270</td>\n",
       "      <td>-73.991242</td>\n",
       "      <td>40.750562</td>\n",
       "      <td>2</td>\n",
       "    </tr>\n",
       "    <tr>\n",
       "      <th>3</th>\n",
       "      <td>2012-04-21 04:30:42.0000001</td>\n",
       "      <td>7.7</td>\n",
       "      <td>2012-04-21 04:30:42 UTC</td>\n",
       "      <td>-73.987130</td>\n",
       "      <td>40.733143</td>\n",
       "      <td>-73.991567</td>\n",
       "      <td>40.758092</td>\n",
       "      <td>1</td>\n",
       "    </tr>\n",
       "    <tr>\n",
       "      <th>4</th>\n",
       "      <td>2010-03-09 07:51:00.000000135</td>\n",
       "      <td>5.3</td>\n",
       "      <td>2010-03-09 07:51:00 UTC</td>\n",
       "      <td>-73.968095</td>\n",
       "      <td>40.768008</td>\n",
       "      <td>-73.956655</td>\n",
       "      <td>40.783762</td>\n",
       "      <td>1</td>\n",
       "    </tr>\n",
       "  </tbody>\n",
       "</table>\n",
       "</div>"
      ],
      "text/plain": [
       "                             key  fare_amount          pickup_datetime  \\\n",
       "0    2009-06-15 17:26:21.0000001          4.5  2009-06-15 17:26:21 UTC   \n",
       "1    2010-01-05 16:52:16.0000002         16.9  2010-01-05 16:52:16 UTC   \n",
       "2   2011-08-18 00:35:00.00000049          5.7  2011-08-18 00:35:00 UTC   \n",
       "3    2012-04-21 04:30:42.0000001          7.7  2012-04-21 04:30:42 UTC   \n",
       "4  2010-03-09 07:51:00.000000135          5.3  2010-03-09 07:51:00 UTC   \n",
       "\n",
       "   pickup_longitude  pickup_latitude  dropoff_longitude  dropoff_latitude  \\\n",
       "0        -73.844311        40.721319         -73.841610         40.712278   \n",
       "1        -74.016048        40.711303         -73.979268         40.782004   \n",
       "2        -73.982738        40.761270         -73.991242         40.750562   \n",
       "3        -73.987130        40.733143         -73.991567         40.758092   \n",
       "4        -73.968095        40.768008         -73.956655         40.783762   \n",
       "\n",
       "   passenger_count  \n",
       "0                1  \n",
       "1                1  \n",
       "2                2  \n",
       "3                1  \n",
       "4                1  "
      ]
     },
     "execution_count": 3,
     "metadata": {},
     "output_type": "execute_result"
    }
   ],
   "source": [
    "df_train.head()"
   ]
  },
  {
   "cell_type": "code",
   "execution_count": 4,
   "id": "e0699057",
   "metadata": {},
   "outputs": [
    {
     "name": "stdout",
     "output_type": "stream",
     "text": [
      "df_train shape: (55423856, 8)\n"
     ]
    }
   ],
   "source": [
    "print(\"df_train shape:\",df_train.shape)"
   ]
  },
  {
   "cell_type": "code",
   "execution_count": 5,
   "id": "9e967fe8",
   "metadata": {},
   "outputs": [
    {
     "name": "stdout",
     "output_type": "stream",
     "text": [
      "Columns: ['key', 'fare_amount', 'pickup_datetime', 'pickup_longitude', 'pickup_latitude', 'dropoff_longitude', 'dropoff_latitude', 'passenger_count']\n",
      "Number of Columns: 8\n"
     ]
    }
   ],
   "source": [
    "columns = df_train.columns\n",
    "print(\"Columns:\", list(columns))\n",
    "print(\"Number of Columns:\", len(columns))"
   ]
  },
  {
   "cell_type": "code",
   "execution_count": 7,
   "id": "670861b2-8f52-4d22-9a00-5abbd90b3d7f",
   "metadata": {},
   "outputs": [
    {
     "data": {
      "text/plain": [
       "key                   object\n",
       "fare_amount          float64\n",
       "pickup_datetime       object\n",
       "pickup_longitude     float64\n",
       "pickup_latitude      float64\n",
       "dropoff_longitude    float64\n",
       "dropoff_latitude     float64\n",
       "passenger_count        int64\n",
       "dtype: object"
      ]
     },
     "execution_count": 7,
     "metadata": {},
     "output_type": "execute_result"
    }
   ],
   "source": [
    "df_train.dtypes"
   ]
  },
  {
   "cell_type": "code",
   "execution_count": 8,
   "id": "70f628a0-c9ef-45e6-b069-b55c619d3e59",
   "metadata": {},
   "outputs": [
    {
     "data": {
      "text/html": [
       "<div>\n",
       "<style scoped>\n",
       "    .dataframe tbody tr th:only-of-type {\n",
       "        vertical-align: middle;\n",
       "    }\n",
       "\n",
       "    .dataframe tbody tr th {\n",
       "        vertical-align: top;\n",
       "    }\n",
       "\n",
       "    .dataframe thead th {\n",
       "        text-align: right;\n",
       "    }\n",
       "</style>\n",
       "<table border=\"1\" class=\"dataframe\">\n",
       "  <thead>\n",
       "    <tr style=\"text-align: right;\">\n",
       "      <th></th>\n",
       "      <th>fare_amount</th>\n",
       "      <th>pickup_longitude</th>\n",
       "      <th>pickup_latitude</th>\n",
       "      <th>dropoff_longitude</th>\n",
       "      <th>dropoff_latitude</th>\n",
       "      <th>passenger_count</th>\n",
       "    </tr>\n",
       "  </thead>\n",
       "  <tbody>\n",
       "    <tr>\n",
       "      <th>count</th>\n",
       "      <td>5.542386e+07</td>\n",
       "      <td>5.542386e+07</td>\n",
       "      <td>5.542386e+07</td>\n",
       "      <td>5.542348e+07</td>\n",
       "      <td>5.542348e+07</td>\n",
       "      <td>5.542386e+07</td>\n",
       "    </tr>\n",
       "    <tr>\n",
       "      <th>mean</th>\n",
       "      <td>1.134505e+01</td>\n",
       "      <td>-7.250968e+01</td>\n",
       "      <td>3.991979e+01</td>\n",
       "      <td>-7.251121e+01</td>\n",
       "      <td>3.992068e+01</td>\n",
       "      <td>1.685380e+00</td>\n",
       "    </tr>\n",
       "    <tr>\n",
       "      <th>std</th>\n",
       "      <td>2.071083e+01</td>\n",
       "      <td>1.284888e+01</td>\n",
       "      <td>9.642353e+00</td>\n",
       "      <td>1.278220e+01</td>\n",
       "      <td>9.633346e+00</td>\n",
       "      <td>1.327664e+00</td>\n",
       "    </tr>\n",
       "    <tr>\n",
       "      <th>min</th>\n",
       "      <td>-3.000000e+02</td>\n",
       "      <td>-3.442060e+03</td>\n",
       "      <td>-3.492264e+03</td>\n",
       "      <td>-3.442025e+03</td>\n",
       "      <td>-3.547887e+03</td>\n",
       "      <td>0.000000e+00</td>\n",
       "    </tr>\n",
       "    <tr>\n",
       "      <th>25%</th>\n",
       "      <td>6.000000e+00</td>\n",
       "      <td>-7.399207e+01</td>\n",
       "      <td>4.073493e+01</td>\n",
       "      <td>-7.399140e+01</td>\n",
       "      <td>4.073403e+01</td>\n",
       "      <td>1.000000e+00</td>\n",
       "    </tr>\n",
       "    <tr>\n",
       "      <th>50%</th>\n",
       "      <td>8.500000e+00</td>\n",
       "      <td>-7.398180e+01</td>\n",
       "      <td>4.075265e+01</td>\n",
       "      <td>-7.398015e+01</td>\n",
       "      <td>4.075316e+01</td>\n",
       "      <td>1.000000e+00</td>\n",
       "    </tr>\n",
       "    <tr>\n",
       "      <th>75%</th>\n",
       "      <td>1.250000e+01</td>\n",
       "      <td>-7.396708e+01</td>\n",
       "      <td>4.076713e+01</td>\n",
       "      <td>-7.396367e+01</td>\n",
       "      <td>4.076810e+01</td>\n",
       "      <td>2.000000e+00</td>\n",
       "    </tr>\n",
       "    <tr>\n",
       "      <th>max</th>\n",
       "      <td>9.396336e+04</td>\n",
       "      <td>3.457626e+03</td>\n",
       "      <td>3.408790e+03</td>\n",
       "      <td>3.457622e+03</td>\n",
       "      <td>3.537133e+03</td>\n",
       "      <td>2.080000e+02</td>\n",
       "    </tr>\n",
       "  </tbody>\n",
       "</table>\n",
       "</div>"
      ],
      "text/plain": [
       "        fare_amount  pickup_longitude  pickup_latitude  dropoff_longitude  \\\n",
       "count  5.542386e+07      5.542386e+07     5.542386e+07       5.542348e+07   \n",
       "mean   1.134505e+01     -7.250968e+01     3.991979e+01      -7.251121e+01   \n",
       "std    2.071083e+01      1.284888e+01     9.642353e+00       1.278220e+01   \n",
       "min   -3.000000e+02     -3.442060e+03    -3.492264e+03      -3.442025e+03   \n",
       "25%    6.000000e+00     -7.399207e+01     4.073493e+01      -7.399140e+01   \n",
       "50%    8.500000e+00     -7.398180e+01     4.075265e+01      -7.398015e+01   \n",
       "75%    1.250000e+01     -7.396708e+01     4.076713e+01      -7.396367e+01   \n",
       "max    9.396336e+04      3.457626e+03     3.408790e+03       3.457622e+03   \n",
       "\n",
       "       dropoff_latitude  passenger_count  \n",
       "count      5.542348e+07     5.542386e+07  \n",
       "mean       3.992068e+01     1.685380e+00  \n",
       "std        9.633346e+00     1.327664e+00  \n",
       "min       -3.547887e+03     0.000000e+00  \n",
       "25%        4.073403e+01     1.000000e+00  \n",
       "50%        4.075316e+01     1.000000e+00  \n",
       "75%        4.076810e+01     2.000000e+00  \n",
       "max        3.537133e+03     2.080000e+02  "
      ]
     },
     "execution_count": 8,
     "metadata": {},
     "output_type": "execute_result"
    }
   ],
   "source": [
    "df_train.describe()"
   ]
  },
  {
   "cell_type": "code",
   "execution_count": 11,
   "id": "66d89e45-c9a6-4741-a5fc-86abc2e7a8b0",
   "metadata": {},
   "outputs": [
    {
     "name": "stdout",
     "output_type": "stream",
     "text": [
      "Checking for Null Values in dataset...\n"
     ]
    },
    {
     "data": {
      "text/plain": [
       "key                    0\n",
       "fare_amount            0\n",
       "pickup_datetime        0\n",
       "pickup_longitude       0\n",
       "pickup_latitude        0\n",
       "dropoff_longitude    376\n",
       "dropoff_latitude     376\n",
       "passenger_count        0\n",
       "dtype: int64"
      ]
     },
     "execution_count": 11,
     "metadata": {},
     "output_type": "execute_result"
    }
   ],
   "source": [
    "print(\"Checking for Null Values in dataset...\")\n",
    "df_train.isnull().sum()"
   ]
  },
  {
   "cell_type": "markdown",
   "id": "83f5b281-6031-4fa9-9d72-03159a3844e8",
   "metadata": {},
   "source": [
    "There exisits NULL values for the longtitude and latitude values which would need to be removed later."
   ]
  },
  {
   "cell_type": "markdown",
   "id": "2b020818-0d5a-419a-9ed2-22ebb1ec8a92",
   "metadata": {},
   "source": [
    "## Visualisation of Data"
   ]
  },
  {
   "cell_type": "markdown",
   "id": "3f73168c-4799-4cfd-afb4-5c01e41ef60e",
   "metadata": {},
   "source": [
    "### Fare amount\n",
    "Understanding the prediction labels that we are working with"
   ]
  },
  {
   "cell_type": "code",
   "execution_count": 13,
   "id": "935b0c59-f8eb-403c-a06d-51147179a66c",
   "metadata": {},
   "outputs": [
    {
     "data": {
      "text/plain": [
       "count    5.542386e+07\n",
       "mean     1.134505e+01\n",
       "std      2.071083e+01\n",
       "min     -3.000000e+02\n",
       "25%      6.000000e+00\n",
       "50%      8.500000e+00\n",
       "75%      1.250000e+01\n",
       "max      9.396336e+04\n",
       "Name: fare_amount, dtype: float64"
      ]
     },
     "execution_count": 13,
     "metadata": {},
     "output_type": "execute_result"
    }
   ],
   "source": [
    "df_train[\"fare_amount\"].describe()"
   ]
  },
  {
   "cell_type": "code",
   "execution_count": 14,
   "id": "8526d29e-1ee9-4e98-aff4-c4bb3e3b5b40",
   "metadata": {},
   "outputs": [
    {
     "data": {
      "text/plain": [
       "6.50      2691783\n",
       "4.50      2270305\n",
       "8.50      2080476\n",
       "5.30      1623420\n",
       "5.70      1620795\n",
       "           ...   \n",
       "147.16          1\n",
       "52.29           1\n",
       "82.13           1\n",
       "203.10          1\n",
       "64.46           1\n",
       "Name: fare_amount, Length: 9969, dtype: int64"
      ]
     },
     "execution_count": 14,
     "metadata": {},
     "output_type": "execute_result"
    }
   ],
   "source": [
    "df_train[\"fare_amount\"].value_counts()"
   ]
  },
  {
   "cell_type": "code",
   "execution_count": 16,
   "id": "aa687b34-4926-4a85-af9a-6256a17f9231",
   "metadata": {},
   "outputs": [
    {
     "name": "stdout",
     "output_type": "stream",
     "text": [
      "Max of fare_amount is 93963.36\n"
     ]
    }
   ],
   "source": [
    "print(\"Max of fare_amount is\", df_train[\"fare_amount\"].max())"
   ]
  },
  {
   "cell_type": "code",
   "execution_count": 17,
   "id": "5af3feeb-f732-4086-96ea-d41c18acf640",
   "metadata": {},
   "outputs": [
    {
     "name": "stdout",
     "output_type": "stream",
     "text": [
      "Min of fare_amount is -300.0\n"
     ]
    }
   ],
   "source": [
    "print(\"Min of fare_amount is\", df_train[\"fare_amount\"].min())"
   ]
  },
  {
   "cell_type": "code",
   "execution_count": 20,
   "id": "a266f551-678a-43c0-b31b-5e5ea3b922bf",
   "metadata": {},
   "outputs": [
    {
     "data": {
      "text/html": [
       "<div>\n",
       "<style scoped>\n",
       "    .dataframe tbody tr th:only-of-type {\n",
       "        vertical-align: middle;\n",
       "    }\n",
       "\n",
       "    .dataframe tbody tr th {\n",
       "        vertical-align: top;\n",
       "    }\n",
       "\n",
       "    .dataframe thead th {\n",
       "        text-align: right;\n",
       "    }\n",
       "</style>\n",
       "<table border=\"1\" class=\"dataframe\">\n",
       "  <thead>\n",
       "    <tr style=\"text-align: right;\">\n",
       "      <th></th>\n",
       "      <th>key</th>\n",
       "      <th>fare_amount</th>\n",
       "      <th>pickup_datetime</th>\n",
       "      <th>pickup_longitude</th>\n",
       "      <th>pickup_latitude</th>\n",
       "      <th>dropoff_longitude</th>\n",
       "      <th>dropoff_latitude</th>\n",
       "      <th>passenger_count</th>\n",
       "    </tr>\n",
       "  </thead>\n",
       "  <tbody>\n",
       "    <tr>\n",
       "      <th>2039</th>\n",
       "      <td>2010-03-09 23:37:10.0000005</td>\n",
       "      <td>-2.9</td>\n",
       "      <td>2010-03-09 23:37:10 UTC</td>\n",
       "      <td>-73.789450</td>\n",
       "      <td>40.643498</td>\n",
       "      <td>-73.788665</td>\n",
       "      <td>40.641952</td>\n",
       "      <td>1</td>\n",
       "    </tr>\n",
       "    <tr>\n",
       "      <th>2486</th>\n",
       "      <td>2015-03-22 05:14:27.0000001</td>\n",
       "      <td>-2.5</td>\n",
       "      <td>2015-03-22 05:14:27 UTC</td>\n",
       "      <td>-74.000031</td>\n",
       "      <td>40.720631</td>\n",
       "      <td>-73.999809</td>\n",
       "      <td>40.720539</td>\n",
       "      <td>1</td>\n",
       "    </tr>\n",
       "    <tr>\n",
       "      <th>13032</th>\n",
       "      <td>2013-08-30 08:57:10.0000002</td>\n",
       "      <td>-3.0</td>\n",
       "      <td>2013-08-30 08:57:10 UTC</td>\n",
       "      <td>-73.995062</td>\n",
       "      <td>40.740755</td>\n",
       "      <td>-73.995885</td>\n",
       "      <td>40.741357</td>\n",
       "      <td>4</td>\n",
       "    </tr>\n",
       "    <tr>\n",
       "      <th>28839</th>\n",
       "      <td>2013-08-11 13:39:10.0000001</td>\n",
       "      <td>-2.5</td>\n",
       "      <td>2013-08-11 13:39:10 UTC</td>\n",
       "      <td>-73.785260</td>\n",
       "      <td>40.648442</td>\n",
       "      <td>0.000000</td>\n",
       "      <td>0.000000</td>\n",
       "      <td>1</td>\n",
       "    </tr>\n",
       "    <tr>\n",
       "      <th>36722</th>\n",
       "      <td>2015-04-30 15:19:45.0000003</td>\n",
       "      <td>-2.5</td>\n",
       "      <td>2015-04-30 15:19:45 UTC</td>\n",
       "      <td>-73.952187</td>\n",
       "      <td>40.790112</td>\n",
       "      <td>-73.950043</td>\n",
       "      <td>40.792839</td>\n",
       "      <td>1</td>\n",
       "    </tr>\n",
       "    <tr>\n",
       "      <th>...</th>\n",
       "      <td>...</td>\n",
       "      <td>...</td>\n",
       "      <td>...</td>\n",
       "      <td>...</td>\n",
       "      <td>...</td>\n",
       "      <td>...</td>\n",
       "      <td>...</td>\n",
       "      <td>...</td>\n",
       "    </tr>\n",
       "    <tr>\n",
       "      <th>55319537</th>\n",
       "      <td>2010-03-31 10:13:10.0000002</td>\n",
       "      <td>-12.1</td>\n",
       "      <td>2010-03-31 10:13:10 UTC</td>\n",
       "      <td>-73.989360</td>\n",
       "      <td>40.772995</td>\n",
       "      <td>-73.947843</td>\n",
       "      <td>40.772062</td>\n",
       "      <td>1</td>\n",
       "    </tr>\n",
       "    <tr>\n",
       "      <th>55326598</th>\n",
       "      <td>2010-03-27 00:41:10.0000004</td>\n",
       "      <td>-19.3</td>\n",
       "      <td>2010-03-27 00:41:10 UTC</td>\n",
       "      <td>-73.984128</td>\n",
       "      <td>40.739660</td>\n",
       "      <td>-73.904713</td>\n",
       "      <td>40.772890</td>\n",
       "      <td>1</td>\n",
       "    </tr>\n",
       "    <tr>\n",
       "      <th>55337328</th>\n",
       "      <td>2015-02-07 10:48:18.0000006</td>\n",
       "      <td>-2.5</td>\n",
       "      <td>2015-02-07 10:48:18 UTC</td>\n",
       "      <td>-73.961197</td>\n",
       "      <td>40.711250</td>\n",
       "      <td>-73.961517</td>\n",
       "      <td>40.711300</td>\n",
       "      <td>6</td>\n",
       "    </tr>\n",
       "    <tr>\n",
       "      <th>55360368</th>\n",
       "      <td>2015-06-21 00:32:32.0000004</td>\n",
       "      <td>-2.5</td>\n",
       "      <td>2015-06-21 00:32:32 UTC</td>\n",
       "      <td>-73.999550</td>\n",
       "      <td>40.738613</td>\n",
       "      <td>-73.999550</td>\n",
       "      <td>40.738613</td>\n",
       "      <td>1</td>\n",
       "    </tr>\n",
       "    <tr>\n",
       "      <th>55367495</th>\n",
       "      <td>2010-02-24 18:41:10.0000005</td>\n",
       "      <td>-3.7</td>\n",
       "      <td>2010-02-24 18:41:10 UTC</td>\n",
       "      <td>-73.978688</td>\n",
       "      <td>40.777598</td>\n",
       "      <td>-73.981663</td>\n",
       "      <td>40.774202</td>\n",
       "      <td>1</td>\n",
       "    </tr>\n",
       "  </tbody>\n",
       "</table>\n",
       "<p>2454 rows × 8 columns</p>\n",
       "</div>"
      ],
      "text/plain": [
       "                                  key  fare_amount          pickup_datetime  \\\n",
       "2039      2010-03-09 23:37:10.0000005         -2.9  2010-03-09 23:37:10 UTC   \n",
       "2486      2015-03-22 05:14:27.0000001         -2.5  2015-03-22 05:14:27 UTC   \n",
       "13032     2013-08-30 08:57:10.0000002         -3.0  2013-08-30 08:57:10 UTC   \n",
       "28839     2013-08-11 13:39:10.0000001         -2.5  2013-08-11 13:39:10 UTC   \n",
       "36722     2015-04-30 15:19:45.0000003         -2.5  2015-04-30 15:19:45 UTC   \n",
       "...                               ...          ...                      ...   \n",
       "55319537  2010-03-31 10:13:10.0000002        -12.1  2010-03-31 10:13:10 UTC   \n",
       "55326598  2010-03-27 00:41:10.0000004        -19.3  2010-03-27 00:41:10 UTC   \n",
       "55337328  2015-02-07 10:48:18.0000006         -2.5  2015-02-07 10:48:18 UTC   \n",
       "55360368  2015-06-21 00:32:32.0000004         -2.5  2015-06-21 00:32:32 UTC   \n",
       "55367495  2010-02-24 18:41:10.0000005         -3.7  2010-02-24 18:41:10 UTC   \n",
       "\n",
       "          pickup_longitude  pickup_latitude  dropoff_longitude  \\\n",
       "2039            -73.789450        40.643498         -73.788665   \n",
       "2486            -74.000031        40.720631         -73.999809   \n",
       "13032           -73.995062        40.740755         -73.995885   \n",
       "28839           -73.785260        40.648442           0.000000   \n",
       "36722           -73.952187        40.790112         -73.950043   \n",
       "...                    ...              ...                ...   \n",
       "55319537        -73.989360        40.772995         -73.947843   \n",
       "55326598        -73.984128        40.739660         -73.904713   \n",
       "55337328        -73.961197        40.711250         -73.961517   \n",
       "55360368        -73.999550        40.738613         -73.999550   \n",
       "55367495        -73.978688        40.777598         -73.981663   \n",
       "\n",
       "          dropoff_latitude  passenger_count  \n",
       "2039             40.641952                1  \n",
       "2486             40.720539                1  \n",
       "13032            40.741357                4  \n",
       "28839             0.000000                1  \n",
       "36722            40.792839                1  \n",
       "...                    ...              ...  \n",
       "55319537         40.772062                1  \n",
       "55326598         40.772890                1  \n",
       "55337328         40.711300                6  \n",
       "55360368         40.738613                1  \n",
       "55367495         40.774202                1  \n",
       "\n",
       "[2454 rows x 8 columns]"
      ]
     },
     "execution_count": 20,
     "metadata": {},
     "output_type": "execute_result"
    }
   ],
   "source": [
    "df_train[df_train['fare_amount'] < 0]"
   ]
  },
  {
   "cell_type": "markdown",
   "id": "0ab877a3-99bb-435d-8de0-573f43a2dcd3",
   "metadata": {},
   "source": [
    "From the analysis, it is observed that there were negative amounts in the fare amount.\n",
    "Although we try not to clean any data points related to the y labels, we decided that leaving negative fare amounts were illogical values and removed them in our dataset.\n"
   ]
  },
  {
   "cell_type": "markdown",
   "id": "4da49d27-efbe-4f5e-965c-06e56c84d963",
   "metadata": {},
   "source": [
    "### Longitude and Latitude"
   ]
  },
  {
   "cell_type": "code",
   "execution_count": 26,
   "id": "8b3bcbc0-6976-43d1-aa12-d06ff5a40fc8",
   "metadata": {},
   "outputs": [
    {
     "data": {
      "image/png": "[encoded data removed]",
      "text/plain": [
       "<Figure size 432x288 with 1 Axes>"
      ]
     },
     "metadata": {
      "needs_background": "light"
     },
     "output_type": "display_data"
    }
   ],
   "source": [
    "plt.scatter(x=df_train['dropoff_longitude'], y=df_train['dropoff_latitude'])\n",
    "plt.show()"
   ]
  },
  {
   "cell_type": "code",
   "execution_count": 27,
   "id": "48f34032-2804-4003-ba5a-fcda6b4b637c",
   "metadata": {},
   "outputs": [
    {
     "data": {
      "image/png": "[encoded data removed]",
      "text/plain": [
       "<Figure size 432x288 with 1 Axes>"
      ]
     },
     "metadata": {
      "needs_background": "light"
     },
     "output_type": "display_data"
    }
   ],
   "source": [
    "plt.scatter(x=df_train['pickup_longitude'], y=df_train['pickup_latitude'])\n",
    "plt.show()"
   ]
  },
  {
   "cell_type": "markdown",
   "id": "8e46293a-e319-4509-9ae9-5376e4b00b80",
   "metadata": {},
   "source": [
    "Several points of the pickup and dropoff locations were visualized on the world map using the Plotly library. Longitude and latitude points with [0,0] were observed in our dataset and as the project only involves the NYC state, they were deemed as irrelevant and were removed from the dataset."
   ]
  },
  {
   "cell_type": "code",
   "execution_count": 16,
   "id": "f16614e0-2e83-4178-9572-3ab8740b602e",
   "metadata": {},
   "outputs": [
    {
     "data": {
      "text/html": [
       "<iframe\n",
       "    scrolling=\"no\"\n",
       "    width=\"100%\"\n",
       "    height=\"545px\"\n",
       "    src=\"iframe_figures/figure_16.html\"\n",
       "    frameborder=\"0\"\n",
       "    allowfullscreen\n",
       "></iframe>\n"
      ]
     },
     "metadata": {},
     "output_type": "display_data"
    }
   ],
   "source": [
    "pio.renderers.default = 'iframe'\n",
    "fig = px.scatter_geo(df_train_2,lat='dropoff_latitude',lon='dropoff_longitude', hover_name=\"key\")\n",
    "fig.update_layout(title = 'World map', title_x=0.5)\n",
    "fig.show()"
   ]
  },
  {
   "cell_type": "code",
   "execution_count": 17,
   "id": "589a0e9d-b2a7-4e1b-8d94-80d71243d51d",
   "metadata": {},
   "outputs": [
    {
     "data": {
      "text/html": [
       "<iframe\n",
       "    scrolling=\"no\"\n",
       "    width=\"100%\"\n",
       "    height=\"545px\"\n",
       "    src=\"iframe_figures/figure_17.html\"\n",
       "    frameborder=\"0\"\n",
       "    allowfullscreen\n",
       "></iframe>\n"
      ]
     },
     "metadata": {},
     "output_type": "display_data"
    }
   ],
   "source": [
    "fig = px.scatter_geo(df_train_2,lat='pickup_latitude',lon='pickup_longitude', hover_name=\"key\")\n",
    "fig.update_layout(title = 'World map', title_x=0.5)\n",
    "fig.show()"
   ]
  },
  {
   "cell_type": "markdown",
   "id": "4020d99b-a798-42d7-93af-65a5de53b02a",
   "metadata": {},
   "source": [
    "### Passenger count\n",
    "Plotting count plot to visualise distribution for fare amount.\n",
    "It is seen from the figure that there are passenger_count of 0 or >10\n",
    "\n",
    "\n",
    "\n",
    "By law, an NYC Taxi is allowed to carry only 4 passengers and 5 passengers, if it is a 5 seater car.\n",
    "Passenger count of greater than 5 is only allowed if children aged 7 or above are seated on the laps of the adult passenger. From this, we concluded that the taxis could carry a maximum of 10 passengers. \n",
    "Hence, to ensure that this logic is not violated, we removed data points with passenger count of more than 10 or less than 1.\n"
   ]
  },
  {
   "cell_type": "code",
   "execution_count": 30,
   "id": "b2734a62-0e2b-4893-85bf-434226080193",
   "metadata": {},
   "outputs": [
    {
     "data": {
      "text/plain": [
       "<AxesSubplot:xlabel='passenger_count', ylabel='count'>"
      ]
     },
     "execution_count": 30,
     "metadata": {},
     "output_type": "execute_result"
    },
    {
     "data": {
      "image/png": "[encoded data removed]",
      "text/plain": [
       "<Figure size 432x288 with 1 Axes>"
      ]
     },
     "metadata": {},
     "output_type": "display_data"
    }
   ],
   "source": [
    "#Plotting a Countplot\n",
    "sb.set_theme(style=\"darkgrid\")\n",
    "sb.countplot(x=\"passenger_count\",data=df_train)"
   ]
  },
  {
   "cell_type": "code",
   "execution_count": 4,
   "id": "7c0cf3ae-fd78-424f-a198-a49347be4805",
   "metadata": {},
   "outputs": [],
   "source": [
    "df_train_5 = pd.read_csv(\"checkpoint5_SGDR_traffic.csv\")"
   ]
  },
  {
   "cell_type": "code",
   "execution_count": 24,
   "id": "39b98bb7-3af7-495e-b3f0-f47f440da517",
   "metadata": {},
   "outputs": [],
   "source": [
    "df_train_6 = pd.read_csv(\"checkpoint5_SGDR_traffic.csv\", nrows=1000)"
   ]
  },
  {
   "cell_type": "code",
   "execution_count": 8,
   "id": "02fad4da-68ad-47bb-92c9-909deaa7f80e",
   "metadata": {},
   "outputs": [
    {
     "data": {
      "text/html": [
       "<div>\n",
       "<style scoped>\n",
       "    .dataframe tbody tr th:only-of-type {\n",
       "        vertical-align: middle;\n",
       "    }\n",
       "\n",
       "    .dataframe tbody tr th {\n",
       "        vertical-align: top;\n",
       "    }\n",
       "\n",
       "    .dataframe thead th {\n",
       "        text-align: right;\n",
       "    }\n",
       "</style>\n",
       "<table border=\"1\" class=\"dataframe\">\n",
       "  <thead>\n",
       "    <tr style=\"text-align: right;\">\n",
       "      <th></th>\n",
       "      <th>fare_amount</th>\n",
       "      <th>pickup_longitude</th>\n",
       "      <th>pickup_latitude</th>\n",
       "      <th>dropoff_longitude</th>\n",
       "      <th>dropoff_latitude</th>\n",
       "      <th>passenger_count</th>\n",
       "      <th>day</th>\n",
       "      <th>weekend</th>\n",
       "      <th>holiday</th>\n",
       "      <th>peak_hour</th>\n",
       "      <th>hotspot</th>\n",
       "      <th>dist</th>\n",
       "      <th>0</th>\n",
       "    </tr>\n",
       "  </thead>\n",
       "  <tbody>\n",
       "    <tr>\n",
       "      <th>count</th>\n",
       "      <td>5.412594e+07</td>\n",
       "      <td>5.412594e+07</td>\n",
       "      <td>5.412594e+07</td>\n",
       "      <td>5.412594e+07</td>\n",
       "      <td>5.412594e+07</td>\n",
       "      <td>5.412594e+07</td>\n",
       "      <td>5.412594e+07</td>\n",
       "      <td>5.412594e+07</td>\n",
       "      <td>5.412594e+07</td>\n",
       "      <td>5.412594e+07</td>\n",
       "      <td>5.412594e+07</td>\n",
       "      <td>5.412594e+07</td>\n",
       "      <td>5.412594e+07</td>\n",
       "    </tr>\n",
       "    <tr>\n",
       "      <th>mean</th>\n",
       "      <td>1.133713e+01</td>\n",
       "      <td>-7.391647e+01</td>\n",
       "      <td>4.069293e+01</td>\n",
       "      <td>-7.391484e+01</td>\n",
       "      <td>4.069177e+01</td>\n",
       "      <td>1.691433e+00</td>\n",
       "      <td>3.041325e+00</td>\n",
       "      <td>4.368442e-01</td>\n",
       "      <td>2.091402e-02</td>\n",
       "      <td>2.223131e-01</td>\n",
       "      <td>2.374954e-01</td>\n",
       "      <td>4.646990e+00</td>\n",
       "      <td>3.652144e-01</td>\n",
       "    </tr>\n",
       "    <tr>\n",
       "      <th>std</th>\n",
       "      <td>2.085934e+01</td>\n",
       "      <td>7.863570e+00</td>\n",
       "      <td>7.508119e+00</td>\n",
       "      <td>7.890774e+00</td>\n",
       "      <td>7.639884e+00</td>\n",
       "      <td>1.307345e+00</td>\n",
       "      <td>1.948994e+00</td>\n",
       "      <td>4.959953e-01</td>\n",
       "      <td>1.430966e-01</td>\n",
       "      <td>4.158005e-01</td>\n",
       "      <td>4.255483e-01</td>\n",
       "      <td>8.732066e+01</td>\n",
       "      <td>2.173255e-01</td>\n",
       "    </tr>\n",
       "    <tr>\n",
       "      <th>min</th>\n",
       "      <td>0.000000e+00</td>\n",
       "      <td>-3.442060e+03</td>\n",
       "      <td>-3.492264e+03</td>\n",
       "      <td>-3.442025e+03</td>\n",
       "      <td>-3.493652e+03</td>\n",
       "      <td>1.000000e+00</td>\n",
       "      <td>0.000000e+00</td>\n",
       "      <td>0.000000e+00</td>\n",
       "      <td>0.000000e+00</td>\n",
       "      <td>0.000000e+00</td>\n",
       "      <td>0.000000e+00</td>\n",
       "      <td>0.000000e+00</td>\n",
       "      <td>8.327085e-02</td>\n",
       "    </tr>\n",
       "    <tr>\n",
       "      <th>25%</th>\n",
       "      <td>6.000000e+00</td>\n",
       "      <td>-7.399228e+01</td>\n",
       "      <td>4.073652e+01</td>\n",
       "      <td>-7.399158e+01</td>\n",
       "      <td>4.073551e+01</td>\n",
       "      <td>1.000000e+00</td>\n",
       "      <td>1.000000e+00</td>\n",
       "      <td>0.000000e+00</td>\n",
       "      <td>0.000000e+00</td>\n",
       "      <td>0.000000e+00</td>\n",
       "      <td>0.000000e+00</td>\n",
       "      <td>1.253296e+00</td>\n",
       "      <td>8.327085e-02</td>\n",
       "    </tr>\n",
       "    <tr>\n",
       "      <th>50%</th>\n",
       "      <td>8.500000e+00</td>\n",
       "      <td>-7.398209e+01</td>\n",
       "      <td>4.075335e+01</td>\n",
       "      <td>-7.398059e+01</td>\n",
       "      <td>4.075383e+01</td>\n",
       "      <td>1.000000e+00</td>\n",
       "      <td>3.000000e+00</td>\n",
       "      <td>0.000000e+00</td>\n",
       "      <td>0.000000e+00</td>\n",
       "      <td>0.000000e+00</td>\n",
       "      <td>0.000000e+00</td>\n",
       "      <td>2.153782e+00</td>\n",
       "      <td>3.830634e-01</td>\n",
       "    </tr>\n",
       "    <tr>\n",
       "      <th>75%</th>\n",
       "      <td>1.250000e+01</td>\n",
       "      <td>-7.396826e+01</td>\n",
       "      <td>4.076754e+01</td>\n",
       "      <td>-7.396528e+01</td>\n",
       "      <td>4.076839e+01</td>\n",
       "      <td>2.000000e+00</td>\n",
       "      <td>5.000000e+00</td>\n",
       "      <td>1.000000e+00</td>\n",
       "      <td>0.000000e+00</td>\n",
       "      <td>0.000000e+00</td>\n",
       "      <td>0.000000e+00</td>\n",
       "      <td>3.914821e+00</td>\n",
       "      <td>3.997408e-01</td>\n",
       "    </tr>\n",
       "    <tr>\n",
       "      <th>max</th>\n",
       "      <td>9.396336e+04</td>\n",
       "      <td>3.457626e+03</td>\n",
       "      <td>3.408790e+03</td>\n",
       "      <td>3.457622e+03</td>\n",
       "      <td>3.537133e+03</td>\n",
       "      <td>9.000000e+00</td>\n",
       "      <td>6.000000e+00</td>\n",
       "      <td>1.000000e+00</td>\n",
       "      <td>1.000000e+00</td>\n",
       "      <td>1.000000e+00</td>\n",
       "      <td>1.000000e+00</td>\n",
       "      <td>1.968880e+04</td>\n",
       "      <td>9.992716e-01</td>\n",
       "    </tr>\n",
       "  </tbody>\n",
       "</table>\n",
       "</div>"
      ],
      "text/plain": [
       "        fare_amount  pickup_longitude  pickup_latitude  dropoff_longitude  \\\n",
       "count  5.412594e+07      5.412594e+07     5.412594e+07       5.412594e+07   \n",
       "mean   1.133713e+01     -7.391647e+01     4.069293e+01      -7.391484e+01   \n",
       "std    2.085934e+01      7.863570e+00     7.508119e+00       7.890774e+00   \n",
       "min    0.000000e+00     -3.442060e+03    -3.492264e+03      -3.442025e+03   \n",
       "25%    6.000000e+00     -7.399228e+01     4.073652e+01      -7.399158e+01   \n",
       "50%    8.500000e+00     -7.398209e+01     4.075335e+01      -7.398059e+01   \n",
       "75%    1.250000e+01     -7.396826e+01     4.076754e+01      -7.396528e+01   \n",
       "max    9.396336e+04      3.457626e+03     3.408790e+03       3.457622e+03   \n",
       "\n",
       "       dropoff_latitude  passenger_count           day       weekend  \\\n",
       "count      5.412594e+07     5.412594e+07  5.412594e+07  5.412594e+07   \n",
       "mean       4.069177e+01     1.691433e+00  3.041325e+00  4.368442e-01   \n",
       "std        7.639884e+00     1.307345e+00  1.948994e+00  4.959953e-01   \n",
       "min       -3.493652e+03     1.000000e+00  0.000000e+00  0.000000e+00   \n",
       "25%        4.073551e+01     1.000000e+00  1.000000e+00  0.000000e+00   \n",
       "50%        4.075383e+01     1.000000e+00  3.000000e+00  0.000000e+00   \n",
       "75%        4.076839e+01     2.000000e+00  5.000000e+00  1.000000e+00   \n",
       "max        3.537133e+03     9.000000e+00  6.000000e+00  1.000000e+00   \n",
       "\n",
       "            holiday     peak_hour       hotspot          dist             0  \n",
       "count  5.412594e+07  5.412594e+07  5.412594e+07  5.412594e+07  5.412594e+07  \n",
       "mean   2.091402e-02  2.223131e-01  2.374954e-01  4.646990e+00  3.652144e-01  \n",
       "std    1.430966e-01  4.158005e-01  4.255483e-01  8.732066e+01  2.173255e-01  \n",
       "min    0.000000e+00  0.000000e+00  0.000000e+00  0.000000e+00  8.327085e-02  \n",
       "25%    0.000000e+00  0.000000e+00  0.000000e+00  1.253296e+00  8.327085e-02  \n",
       "50%    0.000000e+00  0.000000e+00  0.000000e+00  2.153782e+00  3.830634e-01  \n",
       "75%    0.000000e+00  0.000000e+00  0.000000e+00  3.914821e+00  3.997408e-01  \n",
       "max    1.000000e+00  1.000000e+00  1.000000e+00  1.968880e+04  9.992716e-01  "
      ]
     },
     "execution_count": 8,
     "metadata": {},
     "output_type": "execute_result"
    }
   ],
   "source": [
    "df_train_5.describe()"
   ]
  },
  {
   "cell_type": "markdown",
   "id": "54a9bb0d-f965-4c62-9e4a-534803211be4",
   "metadata": {},
   "source": [
    "### Traffic Density"
   ]
  },
  {
   "cell_type": "markdown",
   "id": "e57d8c89-eb25-4c64-b6d8-05d9809244a9",
   "metadata": {},
   "source": [
    "A boxplot was plotted for the traffic density to visualise the distribution of data based on the 5 summary (“minimum”, first quartile (Q1), median, third quartile (Q3), and “maximum”)"
   ]
  },
  {
   "cell_type": "code",
   "execution_count": 6,
   "id": "03348e0b-22da-4afc-9689-62299f11489b",
   "metadata": {},
   "outputs": [
    {
     "data": {
      "text/plain": [
       "Text(0.5, 0, 'traffic_density')"
      ]
     },
     "execution_count": 6,
     "metadata": {},
     "output_type": "execute_result"
    },
    {
     "data": {
      "image/png": "[encoded data removed]",
      "text/plain": [
       "<Figure size 432x288 with 1 Axes>"
      ]
     },
     "metadata": {
      "needs_background": "light"
     },
     "output_type": "display_data"
    }
   ],
   "source": [
    "sb.boxplot(x=df_train_5[\"0\"])\n",
    "plt.xlabel(\"traffic_density\")"
   ]
  },
  {
   "cell_type": "code",
   "execution_count": 7,
   "id": "d58295f4-4adb-4e04-af09-4b79e466e02a",
   "metadata": {},
   "outputs": [
    {
     "data": {
      "image/png": "[encoded data removed]",
      "text/plain": [
       "<Figure size 432x288 with 1 Axes>"
      ]
     },
     "metadata": {
      "needs_background": "light"
     },
     "output_type": "display_data"
    }
   ],
   "source": [
    "plt.scatter(x=df_train_5['0'], y=df_train_5['fare_amount'])\n",
    "plt.xlabel(\"traffic_density\")\n",
    "plt.ylabel(\"fare_amount\")\n",
    "plt.show()"
   ]
  },
  {
   "cell_type": "code",
   "execution_count": 26,
   "id": "a54d4084-a858-4ef0-a280-c29be628a487",
   "metadata": {},
   "outputs": [
    {
     "name": "stdout",
     "output_type": "stream",
     "text": [
      "Min of fare_amount is 0.0\n"
     ]
    }
   ],
   "source": [
    "print(\"Min of fare_amount is\", df_train_5[\"fare_amount\"].min())"
   ]
  },
  {
   "cell_type": "code",
   "execution_count": 27,
   "id": "2cb853be-9131-4060-abf8-248607808a9d",
   "metadata": {},
   "outputs": [
    {
     "name": "stdout",
     "output_type": "stream",
     "text": [
      "Max of fare_amount is 93963.36\n"
     ]
    }
   ],
   "source": [
    "print(\"Max of fare_amount is\", df_train_5[\"fare_amount\"].max())"
   ]
  },
  {
   "cell_type": "markdown",
   "id": "30f0dce0-dab3-4644-bbbc-3e0f8db21e5b",
   "metadata": {},
   "source": [
    "### Location of pickup and drop off"
   ]
  },
  {
   "cell_type": "code",
   "execution_count": 28,
   "id": "b9b16bac-68bb-4b23-9672-b61033feece8",
   "metadata": {},
   "outputs": [
    {
     "data": {
      "text/html": [
       "<iframe\n",
       "    scrolling=\"no\"\n",
       "    width=\"100%\"\n",
       "    height=\"545px\"\n",
       "    src=\"iframe_figures/figure_28.html\"\n",
       "    frameborder=\"0\"\n",
       "    allowfullscreen\n",
       "></iframe>\n"
      ]
     },
     "metadata": {},
     "output_type": "display_data"
    }
   ],
   "source": [
    "fig = px.scatter_geo(df_train_6,lat='pickup_latitude',lon='pickup_longitude', hover_name=\"time\")\n",
    "fig.update_layout(title = 'World map', title_x=0.5)\n",
    "fig.show()"
   ]
  },
  {
   "cell_type": "code",
   "execution_count": 29,
   "id": "ef518787-7f40-4462-ae7f-d7a532721c2f",
   "metadata": {},
   "outputs": [
    {
     "data": {
      "text/html": [
       "        <script type=\"text/javascript\">\n",
       "        window.PlotlyConfig = {MathJaxConfig: 'local'};\n",
       "        if (window.MathJax) {MathJax.Hub.Config({SVG: {font: \"STIX-Web\"}});}\n",
       "        if (typeof require !== 'undefined') {\n",
       "        require.undef(\"plotly\");\n",
       "        requirejs.config({\n",
       "            paths: {\n",
       "                'plotly': ['https://cdn.plot.ly/plotly-2.11.1.min']\n",
       "            }\n",
       "        });\n",
       "        require(['plotly'], function(Plotly) {\n",
       "            window._Plotly = Plotly;\n",
       "        });\n",
       "        }\n",
       "        </script>\n",
       "        "
      ]
     },
     "metadata": {},
     "output_type": "display_data"
    },
    {
     "data": {
      "text/html": [
       "<iframe\n",
       "    scrolling=\"no\"\n",
       "    width=\"100%\"\n",
       "    height=\"545px\"\n",
       "    src=\"iframe_figures/figure_29.html\"\n",
       "    frameborder=\"0\"\n",
       "    allowfullscreen\n",
       "></iframe>\n"
      ]
     },
     "metadata": {},
     "output_type": "display_data"
    }
   ],
   "source": [
    "\n",
    "pio.renderers.default = 'iframe'\n",
    "fig = px.scatter_geo(df_train_6,lat='dropoff_latitude',lon='dropoff_longitude', hover_name=\"time\")\n",
    "fig.update_layout(title = 'World map', title_x=0.5)\n",
    "fig.show()"
   ]
  },
  {
   "cell_type": "markdown",
   "id": "bc489924-ce3a-4669-91b3-5c78d85686d7",
   "metadata": {},
   "source": [
    "### Distance vs Fare amount"
   ]
  },
  {
   "cell_type": "markdown",
   "id": "bffea94a-e224-4dab-9097-cc28dc2f7d64",
   "metadata": {},
   "source": [
    "The below figure is a comparison between the distance and fare amount. (Limited)"
   ]
  },
  {
   "cell_type": "code",
   "execution_count": 9,
   "id": "99c26c33-545f-4816-9d0c-78b1c10b5584",
   "metadata": {},
   "outputs": [
    {
     "data": {
      "text/plain": [
       "<AxesSubplot:title={'center':'Distance and Fare amount in NYC'}, xlabel='dist', ylabel='fare_amount'>"
      ]
     },
     "execution_count": 9,
     "metadata": {},
     "output_type": "execute_result"
    },
    {
     "data": {
      "image/png": "[encoded data removed]",
      "text/plain": [
       "<Figure size 720x432 with 1 Axes>"
      ]
     },
     "metadata": {
      "needs_background": "light"
     },
     "output_type": "display_data"
    }
   ],
   "source": [
    "dist_cost = df_train_5[['dist', 'fare_amount']]\n",
    "dist_cost = dist_cost[dist_cost['fare_amount']<300]\n",
    "dist_cost = dist_cost[dist_cost['dist']<1000]\n",
    "dist_cost.plot(x='dist', y= 'fare_amount', kind='scatter', figsize = (10,6), title = 'Distance and Fare amount in NYC')"
   ]
  },
  {
   "cell_type": "markdown",
   "id": "6189b402-8c48-4cf2-a880-a8ffd3d84318",
   "metadata": {},
   "source": [
    "### Passenger Count"
   ]
  },
  {
   "cell_type": "markdown",
   "id": "408b2d5a-9913-4d5a-bff6-cf620c09e9ba",
   "metadata": {},
   "source": [
    "After data cleaning the range of the passenger count was reduced to 1-9 which 1 being the majority passenger count."
   ]
  },
  {
   "cell_type": "code",
   "execution_count": 4,
   "id": "d71eaade-5a53-4fa9-b455-f5917c5a41bb",
   "metadata": {},
   "outputs": [
    {
     "data": {
      "text/plain": [
       "<AxesSubplot:xlabel='passenger_count', ylabel='count'>"
      ]
     },
     "execution_count": 4,
     "metadata": {},
     "output_type": "execute_result"
    },
    {
     "data": {
      "image/png": "[encoded data removed]",
      "text/plain": [
       "<Figure size 432x288 with 1 Axes>"
      ]
     },
     "metadata": {},
     "output_type": "display_data"
    }
   ],
   "source": [
    "#Plotting a Countplot\n",
    "sb.set_theme(style=\"darkgrid\")\n",
    "sb.countplot(x=\"passenger_count\",data=df_train_5)"
   ]
  },
  {
   "cell_type": "markdown",
   "id": "552500cd-8583-47a0-9fce-679a4a2e239f",
   "metadata": {},
   "source": [
    "### Day"
   ]
  },
  {
   "cell_type": "markdown",
   "id": "ec641401-4115-40b9-b3d3-cca093a40953",
   "metadata": {},
   "source": [
    "Using the features provided in the dataset, new features such as the day, weeekend, peak hour, holiday and hotspot was created. "
   ]
  },
  {
   "cell_type": "code",
   "execution_count": 5,
   "id": "2fe9d99f-e129-4bad-bd4a-d44b4b977e49",
   "metadata": {},
   "outputs": [
    {
     "data": {
      "text/plain": [
       "<AxesSubplot:xlabel='day', ylabel='count'>"
      ]
     },
     "execution_count": 5,
     "metadata": {},
     "output_type": "execute_result"
    },
    {
     "data": {
      "image/png": "[encoded data removed]",
      "text/plain": [
       "<Figure size 432x288 with 1 Axes>"
      ]
     },
     "metadata": {},
     "output_type": "display_data"
    }
   ],
   "source": [
    "sb.countplot(x=\"day\",data=df_train_5)"
   ]
  },
  {
   "cell_type": "markdown",
   "id": "a8fc56d8-6719-4b13-ab75-1f2e018dc8b7",
   "metadata": {},
   "source": [
    "The count plot was used to show the distribution of the \"days\" in our dataset. \n",
    "(Monday - 0 to Sunday - 6)"
   ]
  },
  {
   "cell_type": "markdown",
   "id": "d0ff9745-79b6-4b8e-89a7-af77a8be0dc3",
   "metadata": {},
   "source": [
    "### Weekend, Peak Hour, Holiday, Hotspot"
   ]
  },
  {
   "cell_type": "code",
   "execution_count": 6,
   "id": "3d637ed7-0ec4-4c36-a7e0-5557a8a3a4f6",
   "metadata": {},
   "outputs": [
    {
     "data": {
      "text/plain": [
       "<AxesSubplot:xlabel='weekend', ylabel='count'>"
      ]
     },
     "execution_count": 6,
     "metadata": {},
     "output_type": "execute_result"
    },
    {
     "data": {
      "image/png": "[encoded data removed]",
      "text/plain": [
       "<Figure size 432x288 with 1 Axes>"
      ]
     },
     "metadata": {},
     "output_type": "display_data"
    }
   ],
   "source": [
    "sb.countplot(x=\"weekend\",data=df_train_5)"
   ]
  },
  {
   "cell_type": "code",
   "execution_count": 7,
   "id": "ae20f534-291b-493b-b878-07a46205dc38",
   "metadata": {},
   "outputs": [
    {
     "data": {
      "text/plain": [
       "<AxesSubplot:xlabel='holiday', ylabel='count'>"
      ]
     },
     "execution_count": 7,
     "metadata": {},
     "output_type": "execute_result"
    },
    {
     "data": {
      "image/png": "[encoded data removed]",
      "text/plain": [
       "<Figure size 432x288 with 1 Axes>"
      ]
     },
     "metadata": {},
     "output_type": "display_data"
    }
   ],
   "source": [
    "sb.countplot(x=\"holiday\",data=df_train_5)"
   ]
  },
  {
   "cell_type": "code",
   "execution_count": 8,
   "id": "e7c2052a-635a-4e2e-853d-773cf4575dd4",
   "metadata": {},
   "outputs": [
    {
     "data": {
      "text/plain": [
       "<AxesSubplot:xlabel='peak_hour', ylabel='count'>"
      ]
     },
     "execution_count": 8,
     "metadata": {},
     "output_type": "execute_result"
    },
    {
     "data": {
      "image/png": "[encoded data removed]",
      "text/plain": [
       "<Figure size 432x288 with 1 Axes>"
      ]
     },
     "metadata": {},
     "output_type": "display_data"
    }
   ],
   "source": [
    "sb.countplot(x=\"peak_hour\",data=df_train_5)"
   ]
  },
  {
   "cell_type": "code",
   "execution_count": 18,
   "id": "197e189d-107d-4773-9fbc-542153a1ad19",
   "metadata": {},
   "outputs": [
    {
     "data": {
      "text/plain": [
       "<AxesSubplot:xlabel='hotspot', ylabel='count'>"
      ]
     },
     "execution_count": 18,
     "metadata": {},
     "output_type": "execute_result"
    },
    {
     "data": {
      "image/png": "[encoded data removed]",
      "text/plain": [
       "<Figure size 432x288 with 1 Axes>"
      ]
     },
     "metadata": {
      "needs_background": "light"
     },
     "output_type": "display_data"
    }
   ],
   "source": [
    "sb.countplot(x=\"hotspot\",data=df_train_5)"
   ]
  },
  {
   "cell_type": "code",
   "execution_count": null,
   "id": "2acfb3c5-3f4f-4940-93e6-ed1e84e30b5d",
   "metadata": {},
   "outputs": [],
   "source": []
  }
 ],
 "metadata": {
  "kernelspec": {
   "display_name": "ml",
   "language": "python",
   "name": "ml"
  },
  "language_info": {
   "codemirror_mode": {
    "name": "ipython",
    "version": 3
   },
   "file_extension": ".py",
   "mimetype": "text/x-python",
   "name": "python",
   "nbconvert_exporter": "python",
   "pygments_lexer": "ipython3",
   "version": "3.9.7"
  }
 },
 "nbformat": 4,
 "nbformat_minor": 5
}
