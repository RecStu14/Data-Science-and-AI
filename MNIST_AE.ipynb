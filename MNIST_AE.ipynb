{
  "nbformat": 4,
  "nbformat_minor": 0,
  "metadata": {
    "colab": {
      "name": "MNIST_AE",
      "provenance": [],
      "collapsed_sections": []
    },
    "kernelspec": {
      "display_name": "Python 3",
      "name": "python3"
    },
    "language_info": {
      "name": "python"
    }
  },
  "cells": [
    {
      "cell_type": "markdown",
      "metadata": {
        "id": "1nZS6yQSKzsU"
      },
      "source": [
        "# Implementing an AutoEncoder on the MNIST Dataset"
      ]
    },
    {
      "cell_type": "code",
      "metadata": {
        "colab": {
          "base_uri": "https://localhost:8080/"
        },
        "id": "MiWo4dyYHOCx",
        "outputId": "dcbf9d62-9956-44e6-d4ed-9d7d4437973e"
      },
      "source": [
        "pip install tensorflow"
      ],
      "execution_count": 1,
      "outputs": [
        {
          "output_type": "stream",
          "text": [
            "Requirement already satisfied: tensorflow in /usr/local/lib/python3.7/dist-packages (2.4.1)\n",
            "Requirement already satisfied: typing-extensions~=3.7.4 in /usr/local/lib/python3.7/dist-packages (from tensorflow) (3.7.4.3)\n",
            "Requirement already satisfied: gast==0.3.3 in /usr/local/lib/python3.7/dist-packages (from tensorflow) (0.3.3)\n",
            "Requirement already satisfied: keras-preprocessing~=1.1.2 in /usr/local/lib/python3.7/dist-packages (from tensorflow) (1.1.2)\n",
            "Requirement already satisfied: astunparse~=1.6.3 in /usr/local/lib/python3.7/dist-packages (from tensorflow) (1.6.3)\n",
            "Requirement already satisfied: absl-py~=0.10 in /usr/local/lib/python3.7/dist-packages (from tensorflow) (0.12.0)\n",
            "Requirement already satisfied: h5py~=2.10.0 in /usr/local/lib/python3.7/dist-packages (from tensorflow) (2.10.0)\n",
            "Requirement already satisfied: google-pasta~=0.2 in /usr/local/lib/python3.7/dist-packages (from tensorflow) (0.2.0)\n",
            "Requirement already satisfied: opt-einsum~=3.3.0 in /usr/local/lib/python3.7/dist-packages (from tensorflow) (3.3.0)\n",
            "Requirement already satisfied: numpy~=1.19.2 in /usr/local/lib/python3.7/dist-packages (from tensorflow) (1.19.5)\n",
            "Requirement already satisfied: protobuf>=3.9.2 in /usr/local/lib/python3.7/dist-packages (from tensorflow) (3.12.4)\n",
            "Requirement already satisfied: termcolor~=1.1.0 in /usr/local/lib/python3.7/dist-packages (from tensorflow) (1.1.0)\n",
            "Requirement already satisfied: wheel~=0.35 in /usr/local/lib/python3.7/dist-packages (from tensorflow) (0.36.2)\n",
            "Requirement already satisfied: flatbuffers~=1.12.0 in /usr/local/lib/python3.7/dist-packages (from tensorflow) (1.12)\n",
            "Requirement already satisfied: grpcio~=1.32.0 in /usr/local/lib/python3.7/dist-packages (from tensorflow) (1.32.0)\n",
            "Requirement already satisfied: wrapt~=1.12.1 in /usr/local/lib/python3.7/dist-packages (from tensorflow) (1.12.1)\n",
            "Requirement already satisfied: tensorflow-estimator<2.5.0,>=2.4.0 in /usr/local/lib/python3.7/dist-packages (from tensorflow) (2.4.0)\n",
            "Requirement already satisfied: tensorboard~=2.4 in /usr/local/lib/python3.7/dist-packages (from tensorflow) (2.4.1)\n",
            "Requirement already satisfied: six~=1.15.0 in /usr/local/lib/python3.7/dist-packages (from tensorflow) (1.15.0)\n",
            "Requirement already satisfied: setuptools in /usr/local/lib/python3.7/dist-packages (from protobuf>=3.9.2->tensorflow) (56.1.0)\n",
            "Requirement already satisfied: requests<3,>=2.21.0 in /usr/local/lib/python3.7/dist-packages (from tensorboard~=2.4->tensorflow) (2.23.0)\n",
            "Requirement already satisfied: google-auth<2,>=1.6.3 in /usr/local/lib/python3.7/dist-packages (from tensorboard~=2.4->tensorflow) (1.30.0)\n",
            "Requirement already satisfied: markdown>=2.6.8 in /usr/local/lib/python3.7/dist-packages (from tensorboard~=2.4->tensorflow) (3.3.4)\n",
            "Requirement already satisfied: google-auth-oauthlib<0.5,>=0.4.1 in /usr/local/lib/python3.7/dist-packages (from tensorboard~=2.4->tensorflow) (0.4.4)\n",
            "Requirement already satisfied: tensorboard-plugin-wit>=1.6.0 in /usr/local/lib/python3.7/dist-packages (from tensorboard~=2.4->tensorflow) (1.8.0)\n",
            "Requirement already satisfied: werkzeug>=0.11.15 in /usr/local/lib/python3.7/dist-packages (from tensorboard~=2.4->tensorflow) (2.0.0)\n",
            "Requirement already satisfied: idna<3,>=2.5 in /usr/local/lib/python3.7/dist-packages (from requests<3,>=2.21.0->tensorboard~=2.4->tensorflow) (2.10)\n",
            "Requirement already satisfied: urllib3!=1.25.0,!=1.25.1,<1.26,>=1.21.1 in /usr/local/lib/python3.7/dist-packages (from requests<3,>=2.21.0->tensorboard~=2.4->tensorflow) (1.24.3)\n",
            "Requirement already satisfied: certifi>=2017.4.17 in /usr/local/lib/python3.7/dist-packages (from requests<3,>=2.21.0->tensorboard~=2.4->tensorflow) (2020.12.5)\n",
            "Requirement already satisfied: chardet<4,>=3.0.2 in /usr/local/lib/python3.7/dist-packages (from requests<3,>=2.21.0->tensorboard~=2.4->tensorflow) (3.0.4)\n",
            "Requirement already satisfied: pyasn1-modules>=0.2.1 in /usr/local/lib/python3.7/dist-packages (from google-auth<2,>=1.6.3->tensorboard~=2.4->tensorflow) (0.2.8)\n",
            "Requirement already satisfied: cachetools<5.0,>=2.0.0 in /usr/local/lib/python3.7/dist-packages (from google-auth<2,>=1.6.3->tensorboard~=2.4->tensorflow) (4.2.2)\n",
            "Requirement already satisfied: rsa<5,>=3.1.4; python_version >= \"3.6\" in /usr/local/lib/python3.7/dist-packages (from google-auth<2,>=1.6.3->tensorboard~=2.4->tensorflow) (4.7.2)\n",
            "Requirement already satisfied: importlib-metadata; python_version < \"3.8\" in /usr/local/lib/python3.7/dist-packages (from markdown>=2.6.8->tensorboard~=2.4->tensorflow) (4.0.1)\n",
            "Requirement already satisfied: requests-oauthlib>=0.7.0 in /usr/local/lib/python3.7/dist-packages (from google-auth-oauthlib<0.5,>=0.4.1->tensorboard~=2.4->tensorflow) (1.3.0)\n",
            "Requirement already satisfied: pyasn1<0.5.0,>=0.4.6 in /usr/local/lib/python3.7/dist-packages (from pyasn1-modules>=0.2.1->google-auth<2,>=1.6.3->tensorboard~=2.4->tensorflow) (0.4.8)\n",
            "Requirement already satisfied: zipp>=0.5 in /usr/local/lib/python3.7/dist-packages (from importlib-metadata; python_version < \"3.8\"->markdown>=2.6.8->tensorboard~=2.4->tensorflow) (3.4.1)\n",
            "Requirement already satisfied: oauthlib>=3.0.0 in /usr/local/lib/python3.7/dist-packages (from requests-oauthlib>=0.7.0->google-auth-oauthlib<0.5,>=0.4.1->tensorboard~=2.4->tensorflow) (3.1.0)\n"
          ],
          "name": "stdout"
        }
      ]
    },
    {
      "cell_type": "code",
      "metadata": {
        "id": "R5yJGOWdiTxq"
      },
      "source": [
        "import numpy as np\n",
        "import tensorflow as tf\n",
        "import matplotlib.pyplot as plt\n",
        "\n",
        "from sklearn.metrics import accuracy_score, precision_score, recall_score\n",
        "from sklearn.model_selection import train_test_split\n",
        "from tensorflow.keras import layers, losses\n",
        "from tensorflow.keras.datasets import mnist\n",
        "from tensorflow.keras.models import Model\n",
        "from tensorflow.keras.layers import Input\n",
        "from tensorflow.keras.layers import BatchNormalization"
      ],
      "execution_count": 2,
      "outputs": []
    },
    {
      "cell_type": "markdown",
      "metadata": {
        "id": "2ckHly-uFnXr"
      },
      "source": [
        "#MNIST Data Processing"
      ]
    },
    {
      "cell_type": "code",
      "metadata": {
        "id": "e7ldh2s9FqNw"
      },
      "source": [
        "#Loading the MNIST Dataset\n",
        "(X_train, y_train), (X_test, y_test) = tf.keras.datasets.mnist.load_data()"
      ],
      "execution_count": 4,
      "outputs": []
    },
    {
      "cell_type": "code",
      "metadata": {
        "colab": {
          "base_uri": "https://localhost:8080/",
          "height": 282
        },
        "id": "gqR1MmXHfqaQ",
        "outputId": "a2562f73-b7e6-4118-960e-e5574a7bcab4"
      },
      "source": [
        "plt.imshow(X_train[0], cmap='gray', interpolation='none')"
      ],
      "execution_count": null,
      "outputs": [
        {
          "output_type": "execute_result",
          "data": {
            "text/plain": [
              "<matplotlib.image.AxesImage at 0x7f9c8cf9ef90>"
            ]
          },
          "metadata": {
            "tags": []
          },
          "execution_count": 60
        },
        {
          "output_type": "display_data",
          "data": {
            "image/png": "[encoded data removed]",
            "text/plain": [
              "<Figure size 432x288 with 1 Axes>"
            ]
          },
          "metadata": {
            "tags": []
          }
        }
      ]
    },
    {
      "cell_type": "markdown",
      "metadata": {
        "id": "RE8Iia0SH6C8"
      },
      "source": [
        "## Normalizing the Data"
      ]
    },
    {
      "cell_type": "code",
      "metadata": {
        "colab": {
          "base_uri": "https://localhost:8080/"
        },
        "id": "rW3ATq3XHoz4",
        "outputId": "5aa12af7-0d8b-4951-ed80-784c0dd70b08"
      },
      "source": [
        "#Printing the shape of the train and test sets before normalising\n",
        "print(\"X_train shape = \", X_train.shape)\n",
        "print(\"X_test shape = \", X_test.shape)\n",
        "print(\"y_train shape = \", y_train.shape)\n",
        "print(\"y_test shape = \", y_test.shape)"
      ],
      "execution_count": null,
      "outputs": [
        {
          "output_type": "stream",
          "text": [
            "X_train shape =  (60000, 28, 28)\n",
            "X_test shape =  (10000, 28, 28)\n",
            "y_train shape =  (60000,)\n",
            "y_test shape =  (10000,)\n"
          ],
          "name": "stdout"
        }
      ]
    },
    {
      "cell_type": "code",
      "metadata": {
        "id": "F8aF0NdhH_iA"
      },
      "source": [
        "#Building the input vector\n",
        "#MNIST has 60000 images in the train set and 10000 images in the test set, therefore total 70000\n",
        "X_train = X_train.reshape(60000, 784) \n",
        "X_test = X_test.reshape(10000, 784) "
      ],
      "execution_count": null,
      "outputs": []
    },
    {
      "cell_type": "code",
      "metadata": {
        "id": "9yqeeZtwH_Xk"
      },
      "source": [
        "#Converting them to floating points\n",
        "X_train = X_train.astype('float32')\n",
        "X_test = X_test.astype('float32')"
      ],
      "execution_count": null,
      "outputs": []
    },
    {
      "cell_type": "code",
      "metadata": {
        "id": "Q2ftLV4bHohV"
      },
      "source": [
        "#Normalizing the data by diving by 255 so the data is within 0 to 1 as max pixel value is 255\n",
        "X_train = X_train / 255\n",
        "X_test = X_test / 255"
      ],
      "execution_count": null,
      "outputs": []
    },
    {
      "cell_type": "code",
      "metadata": {
        "colab": {
          "base_uri": "https://localhost:8080/"
        },
        "id": "g_VujSzzIFzT",
        "outputId": "f9e31ae5-59a1-443f-d08d-c4e8bcb0bb6f"
      },
      "source": [
        "#Printing the final input shape ready for training\n",
        "print(\"X_train shape = \", X_train.shape)\n",
        "print(\"X_test shape = \", X_test.shape)"
      ],
      "execution_count": null,
      "outputs": [
        {
          "output_type": "stream",
          "text": [
            "X_train shape =  (60000, 784)\n",
            "X_test shape =  (10000, 784)\n"
          ],
          "name": "stdout"
        }
      ]
    },
    {
      "cell_type": "markdown",
      "metadata": {
        "id": "8i4BX47NFg5Y"
      },
      "source": [
        "#Simple AutoEncoder \n",
        "\n",
        "Before training an AE there are 4 factors that we would need to fix:\n",
        "\n",
        "1. Code Size: refers to the number of neurons we would want in the code layer. The lesser number of neurons = more compression.\n",
        "\n",
        "2. Number of layers: Usually in an AE, the decoder is a mirror image of the encoder, but that might not always be the case, but this AE, is a symmetric one. The number of layers affects how deep/complex the model is.\n",
        "\n",
        "3. Number of nodes per layer: # of nodes in the input layer = # of nodes in the output layer as an AE aims to copy the input to the output with some changes. The number of neurons in the code layer will be smaller than the input layer.\n",
        "\n",
        "4. Loss Function: Usually use Binary Crossentropy (when input values are between 0 and 1) and MSE otherwise.\n",
        "\n",
        "We will train the Autoencoder by using X_train as both the input and the output as the outputs of the autoencoder are supposed to resemble the inputs although with some changes such as reduction in dimensionality."
      ]
    },
    {
      "cell_type": "markdown",
      "metadata": {
        "id": "k93L64JN3dc0"
      },
      "source": [
        "## Model 1\n",
        "\n",
        "Model 1 has 1 hidden layer in the Encoder and Decoder, each having 128 neurons and 32 neurons in the code layer. "
      ]
    },
    {
      "cell_type": "code",
      "metadata": {
        "id": "Yd4pnD3ol-YE"
      },
      "source": [
        "#Instantiating the Model using Functional API\n",
        "#ENCODER\n",
        "input_layer_a = Input(shape=(784,))\n",
        "encoder_a = layers.Dense(128, activation = \"relu\")(input_layer_a)\n",
        "code_a = layers.Dense(32, activation = \"relu\")(encoder_a)\n",
        "\n",
        "#DECODER\n",
        "decoder_a = layers.Dense(128, activation = \"relu\")(code_a)\n",
        "output_layer_a = layers.Dense(784, activation = \"sigmoid\")(decoder_a)\n",
        "#The output layer uses sigmoid as its activation function as we want the outputs to be between 0 and 1\n",
        "\n",
        "#Joining the Model\n",
        "autoencoder_1 = Model(input_layer_a, output_layer_a)"
      ],
      "execution_count": null,
      "outputs": []
    },
    {
      "cell_type": "code",
      "metadata": {
        "id": "4G-wsxHzMiP-"
      },
      "source": [
        "#Compiling the Model\n",
        "autoencoder_1.compile(optimizer = \"adam\", loss = \"binary_crossentropy\")"
      ],
      "execution_count": null,
      "outputs": []
    },
    {
      "cell_type": "code",
      "metadata": {
        "colab": {
          "base_uri": "https://localhost:8080/"
        },
        "id": "EafGLfNAoTD9",
        "outputId": "017add3f-a123-49ae-f037-1c52cb437217"
      },
      "source": [
        "#Fitting the Model\n",
        "#The targets of the AE are the inputs hence we supply X_train as its target\n",
        "history_1 = autoencoder_1.fit(X_train, X_train, epochs = 20)"
      ],
      "execution_count": null,
      "outputs": [
        {
          "output_type": "stream",
          "text": [
            "Epoch 1/20\n",
            "1875/1875 [==============================] - 9s 5ms/step - loss: 0.1903\n",
            "Epoch 2/20\n",
            "1875/1875 [==============================] - 9s 5ms/step - loss: 0.1008\n",
            "Epoch 3/20\n",
            "1875/1875 [==============================] - 9s 5ms/step - loss: 0.0934\n",
            "Epoch 4/20\n",
            "1875/1875 [==============================] - 9s 5ms/step - loss: 0.0899\n",
            "Epoch 5/20\n",
            "1875/1875 [==============================] - 9s 5ms/step - loss: 0.0877\n",
            "Epoch 6/20\n",
            "1875/1875 [==============================] - 9s 5ms/step - loss: 0.0867\n",
            "Epoch 7/20\n",
            "1875/1875 [==============================] - 9s 5ms/step - loss: 0.0856\n",
            "Epoch 8/20\n",
            "1875/1875 [==============================] - 9s 5ms/step - loss: 0.0848\n",
            "Epoch 9/20\n",
            "1875/1875 [==============================] - 9s 5ms/step - loss: 0.0840\n",
            "Epoch 10/20\n",
            "1875/1875 [==============================] - 9s 5ms/step - loss: 0.0835\n",
            "Epoch 11/20\n",
            "1875/1875 [==============================] - 9s 5ms/step - loss: 0.0830\n",
            "Epoch 12/20\n",
            "1875/1875 [==============================] - 8s 5ms/step - loss: 0.0827\n",
            "Epoch 13/20\n",
            "1875/1875 [==============================] - 9s 5ms/step - loss: 0.0826\n",
            "Epoch 14/20\n",
            "1875/1875 [==============================] - 9s 5ms/step - loss: 0.0822\n",
            "Epoch 15/20\n",
            "1875/1875 [==============================] - 9s 5ms/step - loss: 0.0819\n",
            "Epoch 16/20\n",
            "1875/1875 [==============================] - 9s 5ms/step - loss: 0.0816\n",
            "Epoch 17/20\n",
            "1875/1875 [==============================] - 9s 5ms/step - loss: 0.0815\n",
            "Epoch 18/20\n",
            "1875/1875 [==============================] - 9s 5ms/step - loss: 0.0813\n",
            "Epoch 19/20\n",
            "1875/1875 [==============================] - 9s 5ms/step - loss: 0.0810\n",
            "Epoch 20/20\n",
            "1875/1875 [==============================] - 9s 5ms/step - loss: 0.0810\n"
          ],
          "name": "stdout"
        }
      ]
    },
    {
      "cell_type": "code",
      "metadata": {
        "id": "qZZA577BqJEc"
      },
      "source": [
        "#Reconstructions\n",
        "reconstruction_1 = autoencoder_1.predict(X_test)"
      ],
      "execution_count": null,
      "outputs": []
    },
    {
      "cell_type": "markdown",
      "metadata": {
        "id": "StASHK8u3f-u"
      },
      "source": [
        "## Model 2\n",
        "\n",
        "Model 2 has 2 hidden layers in the Encoder and Decoder, with the hidden layers having 128 and 64 neurons and the code layer having 32 neurons. "
      ]
    },
    {
      "cell_type": "code",
      "metadata": {
        "id": "GfBpK6_93iLV"
      },
      "source": [
        "#Instantiating the Model using Functional API\n",
        "#ENCODER\n",
        "input_layer_b = Input(shape=(784,))\n",
        "encoder_b1 = layers.Dense(128, activation = \"relu\")(input_layer_b)\n",
        "encoder_b2 = layers.Dense(64, activation = \"relu\")(encoder_b1)\n",
        "code_b = layers.Dense(32, activation = \"relu\")(encoder_b2)\n",
        "\n",
        "#DECODER\n",
        "decoder_b1 = layers.Dense(64, activation = \"relu\")(code_b)\n",
        "decoder_b2 = layers.Dense(128, activation = \"relu\")(decoder_b1)\n",
        "output_layer_b = layers.Dense(784, activation = \"sigmoid\")(decoder_b2)\n",
        "#The output layer uses sigmoid as its activation function as we want the outputs to be between 0 and 1\n",
        "\n",
        "#Joining the Model\n",
        "autoencoder_2 = Model(input_layer_b, output_layer_b)"
      ],
      "execution_count": null,
      "outputs": []
    },
    {
      "cell_type": "code",
      "metadata": {
        "id": "D_EDN5wc3iJA"
      },
      "source": [
        "#Compiling the Model\n",
        "autoencoder_2.compile(optimizer = \"adam\", loss = \"binary_crossentropy\")"
      ],
      "execution_count": null,
      "outputs": []
    },
    {
      "cell_type": "code",
      "metadata": {
        "colab": {
          "base_uri": "https://localhost:8080/"
        },
        "id": "tFb9HTsg3iGB",
        "outputId": "8ede061f-d707-4704-ec1e-6198cbd302cf"
      },
      "source": [
        "#Fitting the Model\n",
        "#The targets of the AE are the inputs hence we supply X_train as its target\n",
        "history_2 = autoencoder_2.fit(X_train, X_train, epochs = 20)"
      ],
      "execution_count": null,
      "outputs": [
        {
          "output_type": "stream",
          "text": [
            "Epoch 1/20\n",
            "1875/1875 [==============================] - 10s 5ms/step - loss: 0.2035\n",
            "Epoch 2/20\n",
            "1875/1875 [==============================] - 9s 5ms/step - loss: 0.1118\n",
            "Epoch 3/20\n",
            "1875/1875 [==============================] - 9s 5ms/step - loss: 0.1015\n",
            "Epoch 4/20\n",
            "1875/1875 [==============================] - 9s 5ms/step - loss: 0.0961\n",
            "Epoch 5/20\n",
            "1875/1875 [==============================] - 9s 5ms/step - loss: 0.0932\n",
            "Epoch 6/20\n",
            "1875/1875 [==============================] - 9s 5ms/step - loss: 0.0907\n",
            "Epoch 7/20\n",
            "1875/1875 [==============================] - 9s 5ms/step - loss: 0.0897\n",
            "Epoch 8/20\n",
            "1875/1875 [==============================] - 9s 5ms/step - loss: 0.0882\n",
            "Epoch 9/20\n",
            "1875/1875 [==============================] - 9s 5ms/step - loss: 0.0869\n",
            "Epoch 10/20\n",
            "1875/1875 [==============================] - 9s 5ms/step - loss: 0.0863\n",
            "Epoch 11/20\n",
            "1875/1875 [==============================] - 9s 5ms/step - loss: 0.0855\n",
            "Epoch 12/20\n",
            "1875/1875 [==============================] - 9s 5ms/step - loss: 0.0851\n",
            "Epoch 13/20\n",
            "1875/1875 [==============================] - 9s 5ms/step - loss: 0.0849\n",
            "Epoch 14/20\n",
            "1875/1875 [==============================] - 9s 5ms/step - loss: 0.0843\n",
            "Epoch 15/20\n",
            "1875/1875 [==============================] - 9s 5ms/step - loss: 0.0844\n",
            "Epoch 16/20\n",
            "1875/1875 [==============================] - 9s 5ms/step - loss: 0.0841\n",
            "Epoch 17/20\n",
            "1875/1875 [==============================] - 9s 5ms/step - loss: 0.0837\n",
            "Epoch 18/20\n",
            "1875/1875 [==============================] - 9s 5ms/step - loss: 0.0838\n",
            "Epoch 19/20\n",
            "1875/1875 [==============================] - 9s 5ms/step - loss: 0.0834\n",
            "Epoch 20/20\n",
            "1875/1875 [==============================] - 9s 5ms/step - loss: 0.0831\n"
          ],
          "name": "stdout"
        }
      ]
    },
    {
      "cell_type": "code",
      "metadata": {
        "id": "nybGl4eI3iBu"
      },
      "source": [
        "#Reconstructions\n",
        "reconstruction_2 = autoencoder_2.predict(X_test)"
      ],
      "execution_count": null,
      "outputs": []
    },
    {
      "cell_type": "markdown",
      "metadata": {
        "id": "-ov1yUG04hPy"
      },
      "source": [
        "## Model 3\n",
        "\n",
        "Model 3 has 1 hidden layer in the Encoder and Decoder, each having 128 neurons and 16 neurons in the code layer. "
      ]
    },
    {
      "cell_type": "code",
      "metadata": {
        "id": "06aBX4VF4uHx"
      },
      "source": [
        "#Instantiating the Model using Functional API\n",
        "#ENCODER\n",
        "input_layer_c = Input(shape=(784,))\n",
        "encoder_c = layers.Dense(128, activation = \"relu\")(input_layer_c)\n",
        "code_c = layers.Dense(16, activation = \"relu\")(encoder_c)\n",
        "\n",
        "#DECODER\n",
        "decoder_c = layers.Dense(128, activation = \"relu\")(code_c)\n",
        "output_layer_c = layers.Dense(784, activation = \"sigmoid\")(decoder_c)\n",
        "#The output layer uses sigmoid as its activation function as we want the outputs to be between 0 and 1\n",
        "\n",
        "#Joining the Model\n",
        "autoencoder_3 = Model(input_layer_c, output_layer_c)"
      ],
      "execution_count": null,
      "outputs": []
    },
    {
      "cell_type": "code",
      "metadata": {
        "id": "uy5-268J4uCm"
      },
      "source": [
        "#Compiling the Model\n",
        "autoencoder_3.compile(optimizer = \"adam\", loss = \"binary_crossentropy\")"
      ],
      "execution_count": null,
      "outputs": []
    },
    {
      "cell_type": "code",
      "metadata": {
        "colab": {
          "base_uri": "https://localhost:8080/"
        },
        "id": "JrPxNBDO4t_z",
        "outputId": "ac9b50b5-7a32-44db-9553-940209268ac4"
      },
      "source": [
        "#Fitting the Model\n",
        "#The targets of the AE are the inputs hence we supply X_train as its target\n",
        "history_3 = autoencoder_3.fit(X_train, X_train, epochs = 20)"
      ],
      "execution_count": null,
      "outputs": [
        {
          "output_type": "stream",
          "text": [
            "Epoch 1/20\n",
            "1875/1875 [==============================] - 9s 5ms/step - loss: 0.2001\n",
            "Epoch 2/20\n",
            "1875/1875 [==============================] - 8s 4ms/step - loss: 0.1206\n",
            "Epoch 3/20\n",
            "1875/1875 [==============================] - 8s 4ms/step - loss: 0.1139\n",
            "Epoch 4/20\n",
            "1875/1875 [==============================] - 8s 4ms/step - loss: 0.1101\n",
            "Epoch 5/20\n",
            "1875/1875 [==============================] - 8s 5ms/step - loss: 0.1064\n",
            "Epoch 6/20\n",
            "1875/1875 [==============================] - 8s 4ms/step - loss: 0.1051\n",
            "Epoch 7/20\n",
            "1875/1875 [==============================] - 9s 5ms/step - loss: 0.1036\n",
            "Epoch 8/20\n",
            "1875/1875 [==============================] - 8s 5ms/step - loss: 0.1024\n",
            "Epoch 9/20\n",
            "1875/1875 [==============================] - 8s 4ms/step - loss: 0.1017\n",
            "Epoch 10/20\n",
            "1875/1875 [==============================] - 8s 4ms/step - loss: 0.1010\n",
            "Epoch 11/20\n",
            "1875/1875 [==============================] - 8s 4ms/step - loss: 0.1004\n",
            "Epoch 12/20\n",
            "1875/1875 [==============================] - 9s 5ms/step - loss: 0.1004\n",
            "Epoch 13/20\n",
            "1875/1875 [==============================] - 8s 5ms/step - loss: 0.0995\n",
            "Epoch 14/20\n",
            "1875/1875 [==============================] - 8s 5ms/step - loss: 0.0993\n",
            "Epoch 15/20\n",
            "1875/1875 [==============================] - 8s 4ms/step - loss: 0.0992\n",
            "Epoch 16/20\n",
            "1875/1875 [==============================] - 8s 4ms/step - loss: 0.0984\n",
            "Epoch 17/20\n",
            "1875/1875 [==============================] - 8s 4ms/step - loss: 0.0982\n",
            "Epoch 18/20\n",
            "1875/1875 [==============================] - 8s 4ms/step - loss: 0.0979\n",
            "Epoch 19/20\n",
            "1875/1875 [==============================] - 8s 5ms/step - loss: 0.0978\n",
            "Epoch 20/20\n",
            "1875/1875 [==============================] - 8s 4ms/step - loss: 0.0976\n"
          ],
          "name": "stdout"
        }
      ]
    },
    {
      "cell_type": "code",
      "metadata": {
        "id": "6f0WAUZ95GsW"
      },
      "source": [
        "#Reconstructions\n",
        "reconstruction_3 = autoencoder_3.predict(X_test)"
      ],
      "execution_count": null,
      "outputs": []
    },
    {
      "cell_type": "markdown",
      "metadata": {
        "id": "gj4o3vbM5UIE"
      },
      "source": [
        "## Model 4\n",
        "\n",
        "Model 4 has 1 hidden layer in the Encoder and Decoder, each having 64 neurons and 8 neurons in the code layer. "
      ]
    },
    {
      "cell_type": "code",
      "metadata": {
        "id": "EUIz54OD5WLi"
      },
      "source": [
        "#Instantiating the Model using Functional API\n",
        "#ENCODER\n",
        "input_layer_d = Input(shape=(784,))\n",
        "encoder_d = layers.Dense(64, activation = \"relu\")(input_layer_d)\n",
        "code_d = layers.Dense(8, activation = \"relu\")(encoder_d)\n",
        "\n",
        "#DECODER\n",
        "decoder_d = layers.Dense(64, activation = \"relu\")(code_d)\n",
        "output_layer_d = layers.Dense(784, activation = \"sigmoid\")(decoder_d)\n",
        "#The output layer uses sigmoid as its activation function as we want the outputs to be between 0 and 1\n",
        "\n",
        "#Joining the Model\n",
        "autoencoder_4 = Model(input_layer_d, output_layer_d)"
      ],
      "execution_count": null,
      "outputs": []
    },
    {
      "cell_type": "code",
      "metadata": {
        "id": "O5GZZT3v5WHd"
      },
      "source": [
        "#Compiling the Model\n",
        "autoencoder_4.compile(optimizer = \"adam\", loss = \"binary_crossentropy\")"
      ],
      "execution_count": null,
      "outputs": []
    },
    {
      "cell_type": "code",
      "metadata": {
        "colab": {
          "base_uri": "https://localhost:8080/"
        },
        "id": "SvUN1eHI5WD0",
        "outputId": "386a1515-2989-4944-8703-e0f5d605d1f6"
      },
      "source": [
        "#Fitting the Model\n",
        "#The targets of the AE are the inputs hence we supply X_train as its target\n",
        "history_4 = autoencoder_4.fit(X_train, X_train, epochs = 20)"
      ],
      "execution_count": null,
      "outputs": [
        {
          "output_type": "stream",
          "text": [
            "Epoch 1/20\n",
            "1875/1875 [==============================] - 6s 3ms/step - loss: 0.2320\n",
            "Epoch 2/20\n",
            "1875/1875 [==============================] - 6s 3ms/step - loss: 0.1502\n",
            "Epoch 3/20\n",
            "1875/1875 [==============================] - 6s 3ms/step - loss: 0.1431\n",
            "Epoch 4/20\n",
            "1875/1875 [==============================] - 6s 3ms/step - loss: 0.1391\n",
            "Epoch 5/20\n",
            "1875/1875 [==============================] - 6s 3ms/step - loss: 0.1368\n",
            "Epoch 6/20\n",
            "1875/1875 [==============================] - 6s 3ms/step - loss: 0.1352\n",
            "Epoch 7/20\n",
            "1875/1875 [==============================] - 6s 3ms/step - loss: 0.1342\n",
            "Epoch 8/20\n",
            "1875/1875 [==============================] - 6s 3ms/step - loss: 0.1331\n",
            "Epoch 9/20\n",
            "1875/1875 [==============================] - 6s 3ms/step - loss: 0.1324\n",
            "Epoch 10/20\n",
            "1875/1875 [==============================] - 6s 3ms/step - loss: 0.1319\n",
            "Epoch 11/20\n",
            "1875/1875 [==============================] - 6s 3ms/step - loss: 0.1317\n",
            "Epoch 12/20\n",
            "1875/1875 [==============================] - 6s 3ms/step - loss: 0.1315\n",
            "Epoch 13/20\n",
            "1875/1875 [==============================] - 6s 3ms/step - loss: 0.1310\n",
            "Epoch 14/20\n",
            "1875/1875 [==============================] - 6s 3ms/step - loss: 0.1305\n",
            "Epoch 15/20\n",
            "1875/1875 [==============================] - 6s 3ms/step - loss: 0.1300\n",
            "Epoch 16/20\n",
            "1875/1875 [==============================] - 6s 3ms/step - loss: 0.1297\n",
            "Epoch 17/20\n",
            "1875/1875 [==============================] - 6s 3ms/step - loss: 0.1293\n",
            "Epoch 18/20\n",
            "1875/1875 [==============================] - 6s 3ms/step - loss: 0.1295\n",
            "Epoch 19/20\n",
            "1875/1875 [==============================] - 6s 3ms/step - loss: 0.1292\n",
            "Epoch 20/20\n",
            "1875/1875 [==============================] - 6s 3ms/step - loss: 0.1289\n"
          ],
          "name": "stdout"
        }
      ]
    },
    {
      "cell_type": "code",
      "metadata": {
        "id": "tLZKn4JJ5u5H"
      },
      "source": [
        "#Reconstructions\n",
        "reconstruction_4 = autoencoder_4.predict(X_test)"
      ],
      "execution_count": null,
      "outputs": []
    },
    {
      "cell_type": "markdown",
      "metadata": {
        "id": "qnXge57a922_"
      },
      "source": [
        "##Model 5\n",
        "\n",
        "Model 5 has 1 hidden layer in the Encoder and Decoder, each having 256 neurons and 128 neurons in the code layer. "
      ]
    },
    {
      "cell_type": "code",
      "metadata": {
        "id": "mh-Co79E94kv"
      },
      "source": [
        "#Instantiating the Model using Functional API\n",
        "#ENCODER\n",
        "input_layer_e = Input(shape=(784,))\n",
        "encoder_e = layers.Dense(256, activation = \"relu\")(input_layer_e)\n",
        "code_e = layers.Dense(128, activation = \"relu\")(encoder_e)\n",
        "\n",
        "#DECODER\n",
        "decoder_e = layers.Dense(256, activation = \"relu\")(code_e)\n",
        "output_layer_e = layers.Dense(784, activation = \"sigmoid\")(decoder_e)\n",
        "#The output layer uses sigmoid as its activation function as we want the outputs to be between 0 and 1\n",
        "\n",
        "#Joining the Model\n",
        "autoencoder_5 = Model(input_layer_e, output_layer_e)"
      ],
      "execution_count": null,
      "outputs": []
    },
    {
      "cell_type": "code",
      "metadata": {
        "id": "FuYpCa9S94hI"
      },
      "source": [
        "#Compiling the Model\n",
        "autoencoder_5.compile(optimizer = \"adam\", loss = \"binary_crossentropy\")"
      ],
      "execution_count": null,
      "outputs": []
    },
    {
      "cell_type": "code",
      "metadata": {
        "colab": {
          "base_uri": "https://localhost:8080/"
        },
        "id": "WHdZI5ys94a6",
        "outputId": "c73a9b6f-1871-4c7d-c91b-e7abcb8b7b5b"
      },
      "source": [
        "#Fitting the Model\n",
        "#The targets of the AE are the inputs hence we supply X_train as its target\n",
        "history_5 = autoencoder_5.fit(X_train, X_train, epochs = 20)"
      ],
      "execution_count": null,
      "outputs": [
        {
          "output_type": "stream",
          "text": [
            "Epoch 1/20\n",
            "1875/1875 [==============================] - 14s 7ms/step - loss: 0.1589\n",
            "Epoch 2/20\n",
            "1875/1875 [==============================] - 13s 7ms/step - loss: 0.0813\n",
            "Epoch 3/20\n",
            "1875/1875 [==============================] - 13s 7ms/step - loss: 0.0759\n",
            "Epoch 4/20\n",
            "1875/1875 [==============================] - 13s 7ms/step - loss: 0.0733\n",
            "Epoch 5/20\n",
            "1875/1875 [==============================] - 13s 7ms/step - loss: 0.0719\n",
            "Epoch 6/20\n",
            "1875/1875 [==============================] - 13s 7ms/step - loss: 0.0708\n",
            "Epoch 7/20\n",
            "1875/1875 [==============================] - 13s 7ms/step - loss: 0.0702\n",
            "Epoch 8/20\n",
            "1875/1875 [==============================] - 13s 7ms/step - loss: 0.0695\n",
            "Epoch 9/20\n",
            "1875/1875 [==============================] - 13s 7ms/step - loss: 0.0690\n",
            "Epoch 10/20\n",
            "1875/1875 [==============================] - 13s 7ms/step - loss: 0.0688\n",
            "Epoch 11/20\n",
            "1875/1875 [==============================] - 13s 7ms/step - loss: 0.0685\n",
            "Epoch 12/20\n",
            "1875/1875 [==============================] - 13s 7ms/step - loss: 0.0682\n",
            "Epoch 13/20\n",
            "1875/1875 [==============================] - 13s 7ms/step - loss: 0.0680\n",
            "Epoch 14/20\n",
            "1875/1875 [==============================] - 13s 7ms/step - loss: 0.0679\n",
            "Epoch 15/20\n",
            "1875/1875 [==============================] - 13s 7ms/step - loss: 0.0677\n",
            "Epoch 16/20\n",
            "1875/1875 [==============================] - 13s 7ms/step - loss: 0.0676\n",
            "Epoch 17/20\n",
            "1875/1875 [==============================] - 13s 7ms/step - loss: 0.0676\n",
            "Epoch 18/20\n",
            "1875/1875 [==============================] - 13s 7ms/step - loss: 0.0674\n",
            "Epoch 19/20\n",
            "1875/1875 [==============================] - 13s 7ms/step - loss: 0.0673\n",
            "Epoch 20/20\n",
            "1875/1875 [==============================] - 13s 7ms/step - loss: 0.0672\n"
          ],
          "name": "stdout"
        }
      ]
    },
    {
      "cell_type": "code",
      "metadata": {
        "id": "JnRZ7OclBLtJ"
      },
      "source": [
        "reconstruction_5 = autoencoder_5.predict(X_test)"
      ],
      "execution_count": null,
      "outputs": []
    },
    {
      "cell_type": "markdown",
      "metadata": {
        "id": "1L63MiQy51wj"
      },
      "source": [
        "#Comparing the 5 Models"
      ]
    },
    {
      "cell_type": "markdown",
      "metadata": {
        "id": "5CiUI8cQ7ijK"
      },
      "source": [
        "## Comparing the Training Losses"
      ]
    },
    {
      "cell_type": "code",
      "metadata": {
        "colab": {
          "base_uri": "https://localhost:8080/"
        },
        "id": "RigLoyhj7k7Z",
        "outputId": "f8f43063-eb0b-467e-a40d-776285c2b0a8"
      },
      "source": [
        "plt.plot(history_1.history['loss'])\n",
        "plt.plot(history_2.history['loss'])\n",
        "plt.plot(history_3.history['loss'])\n",
        "plt.plot(history_4.history['loss'])\n",
        "plt.plot(history_5.history['loss'])\n",
        "plt.title('Model Loss')\n",
        "plt.ylabel('Loss')\n",
        "plt.xlabel('Epochs')\n",
        "plt.legend(['Model 1', 'Model 2', 'Model 3', 'Model 4', 'Model 5'], loc='upper right')\n",
        "plt.show()"
      ],
      "execution_count": null,
      "outputs": [
        {
          "output_type": "display_data",
          "data": {
            "image/png": "[encoded data removed]",
            "text/plain": [
              "<Figure size 432x288 with 1 Axes>"
            ]
          },
          "metadata": {
            "tags": []
          }
        }
      ]
    },
    {
      "cell_type": "code",
      "metadata": {
        "colab": {
          "base_uri": "https://localhost:8080/"
        },
        "id": "3PkSohBAwPoD",
        "outputId": "c17b2478-fd99-4e9f-f0fd-9a6de12185f6"
      },
      "source": [
        "#MODEL 1\n",
        "n = 5\n",
        "plt.figure(figsize=(20, 10))\n",
        "for i in range(n):\n",
        "  # display original\n",
        "  ax = plt.subplot(2, n, i + 1)\n",
        "  plt.imshow(X_test[i].reshape(28,28), cmap = \"gray\", interpolation = \"none\")\n",
        "  plt.title(\"X_test\")\n",
        "  plt.gray()\n",
        "  ax.get_xaxis().set_visible(False)\n",
        "  ax.get_yaxis().set_visible(False)\n",
        "\n",
        "  # display reconstruction\n",
        "  ax = plt.subplot(2, n, i + 1 + n)\n",
        "  plt.imshow(reconstruction_1[i].reshape(28,28), cmap = \"gray\", interpolation = \"none\")\n",
        "  plt.title(\"Reconstruction 1\")\n",
        "  plt.gray()\n",
        "  ax.get_xaxis().set_visible(False)\n",
        "  ax.get_yaxis().set_visible(False)\n",
        "plt.show()"
      ],
      "execution_count": null,
      "outputs": [
        {
          "output_type": "display_data",
          "data": {
            "image/png": "[encoded data removed]",
            "text/plain": [
              "<Figure size 1440x720 with 10 Axes>"
            ]
          },
          "metadata": {
            "tags": []
          }
        }
      ]
    },
    {
      "cell_type": "code",
      "metadata": {
        "colab": {
          "base_uri": "https://localhost:8080/"
        },
        "id": "neAL4pWHpbAG",
        "outputId": "7786096f-1019-4586-b25b-4e34d103611f"
      },
      "source": [
        "#MODEL 2\n",
        "n = 5\n",
        "plt.figure(figsize=(20, 10))\n",
        "for i in range(n):\n",
        "  # display original\n",
        "  ax = plt.subplot(2, n, i + 1)\n",
        "  plt.imshow(X_test[i].reshape(28,28), cmap = \"gray\", interpolation = \"none\")\n",
        "  plt.title(\"X_test\")\n",
        "  plt.gray()\n",
        "  ax.get_xaxis().set_visible(False)\n",
        "  ax.get_yaxis().set_visible(False)\n",
        "\n",
        "  # display reconstruction\n",
        "  ax = plt.subplot(2, n, i + 1 + n)\n",
        "  plt.imshow(reconstruction_2[i].reshape(28,28), cmap = \"gray\", interpolation = \"none\")\n",
        "  plt.title(\"Reconstruction 2\")\n",
        "  plt.gray()\n",
        "  ax.get_xaxis().set_visible(False)\n",
        "  ax.get_yaxis().set_visible(False)\n",
        "plt.show()"
      ],
      "execution_count": null,
      "outputs": [
        {
          "output_type": "display_data",
          "data": {
            "image/png": "[encoded data removed]",
            "text/plain": [
              "<Figure size 1440x720 with 10 Axes>"
            ]
          },
          "metadata": {
            "tags": []
          }
        }
      ]
    },
    {
      "cell_type": "code",
      "metadata": {
        "colab": {
          "base_uri": "https://localhost:8080/"
        },
        "id": "EOja1piD5-ar",
        "outputId": "c25d082e-1b05-4ffb-dc74-142be5ddd625"
      },
      "source": [
        "#MODEL 3\n",
        "n = 5\n",
        "plt.figure(figsize=(20, 10))\n",
        "for i in range(n):\n",
        "  # display original\n",
        "  ax = plt.subplot(2, n, i + 1)\n",
        "  plt.imshow(X_test[i].reshape(28,28), cmap = \"gray\", interpolation = \"none\")\n",
        "  plt.title(\"X_test\")\n",
        "  plt.gray()\n",
        "  ax.get_xaxis().set_visible(False)\n",
        "  ax.get_yaxis().set_visible(False)\n",
        "\n",
        "  # display reconstruction\n",
        "  ax = plt.subplot(2, n, i + 1 + n)\n",
        "  plt.imshow(reconstruction_3[i].reshape(28,28), cmap = \"gray\", interpolation = \"none\")\n",
        "  plt.title(\"Reconstruction 3\")\n",
        "  plt.gray()\n",
        "  ax.get_xaxis().set_visible(False)\n",
        "  ax.get_yaxis().set_visible(False)\n",
        "plt.show()"
      ],
      "execution_count": null,
      "outputs": [
        {
          "output_type": "display_data",
          "data": {
            "image/png": "[encoded data removed]",
            "text/plain": [
              "<Figure size 1440x720 with 10 Axes>"
            ]
          },
          "metadata": {
            "tags": []
          }
        }
      ]
    },
    {
      "cell_type": "code",
      "metadata": {
        "colab": {
          "base_uri": "https://localhost:8080/",
          "height": 539
        },
        "id": "SWBoETXo6AbE",
        "outputId": "4feb01ca-231e-4463-eb15-932a0796fd13"
      },
      "source": [
        "#MODEL 4\n",
        "n = 5\n",
        "plt.figure(figsize=(20, 10))\n",
        "for i in range(n):\n",
        "  # display original\n",
        "  ax = plt.subplot(2, n, i + 1)\n",
        "  plt.imshow(X_test[i].reshape(28,28), cmap = \"gray\", interpolation = \"none\")\n",
        "  plt.title(\"X_test\")\n",
        "  plt.gray()\n",
        "  ax.get_xaxis().set_visible(False)\n",
        "  ax.get_yaxis().set_visible(False)\n",
        "\n",
        "  # display reconstruction\n",
        "  ax = plt.subplot(2, n, i + 1 + n)\n",
        "  plt.imshow(reconstruction_4[i].reshape(28,28), cmap = \"gray\", interpolation = \"none\")\n",
        "  plt.title(\"Reconstruction 4\")\n",
        "  plt.gray()\n",
        "  ax.get_xaxis().set_visible(False)\n",
        "  ax.get_yaxis().set_visible(False)\n",
        "plt.show()"
      ],
      "execution_count": null,
      "outputs": [
        {
          "output_type": "display_data",
          "data": {
            "image/png": "[encoded data removed]",
            "text/plain": [
              "<Figure size 1440x720 with 10 Axes>"
            ]
          },
          "metadata": {
            "tags": []
          }
        }
      ]
    },
    {
      "cell_type": "code",
      "metadata": {
        "colab": {
          "base_uri": "https://localhost:8080/"
        },
        "id": "y0rg9r0ACkru",
        "outputId": "d3011d75-ae8e-47b6-ccdd-aac44ad881ff"
      },
      "source": [
        "#MODEL 5\n",
        "n = 5\n",
        "plt.figure(figsize=(20, 10))\n",
        "for i in range(n):\n",
        "  # display original\n",
        "  ax = plt.subplot(2, n, i + 1)\n",
        "  plt.imshow(X_test[i].reshape(28,28), cmap = \"gray\", interpolation = \"none\")\n",
        "  plt.title(\"X_test\")\n",
        "  plt.gray()\n",
        "  ax.get_xaxis().set_visible(False)\n",
        "  ax.get_yaxis().set_visible(False)\n",
        "\n",
        "  # display reconstruction\n",
        "  ax = plt.subplot(2, n, i + 1 + n)\n",
        "  plt.imshow(reconstruction_5[i].reshape(28,28), cmap = \"gray\", interpolation = \"none\")\n",
        "  plt.title(\"Reconstruction 5\")\n",
        "  plt.gray()\n",
        "  ax.get_xaxis().set_visible(False)\n",
        "  ax.get_yaxis().set_visible(False)\n",
        "plt.show()"
      ],
      "execution_count": null,
      "outputs": [
        {
          "output_type": "display_data",
          "data": {
            "image/png": "[encoded data removed]",
            "text/plain": [
              "<Figure size 1440x720 with 10 Axes>"
            ]
          },
          "metadata": {
            "tags": []
          }
        }
      ]
    },
    {
      "cell_type": "markdown",
      "metadata": {
        "id": "Zp1RXuYjlfmf"
      },
      "source": [
        "##Updating Model 4\n",
        "\n",
        "Updated the Model 4 using BatchNormalization to see how it affects the overall loss."
      ]
    },
    {
      "cell_type": "code",
      "metadata": {
        "id": "vlxEQCbUlfO0"
      },
      "source": [
        "#Instantiating the Model using Functional API\n",
        "#ENCODER\n",
        "input_layer_d = Input(shape=(784,))\n",
        "batch_norm_1 = layers.BatchNormalization(axis=1)\n",
        "encoder_d = layers.Dense(64, activation = \"relu\")(input_layer_d)\n",
        "batch_norm_2 = layers.BatchNormalization(axis=1)\n",
        "code_d = layers.Dense(8, activation = \"relu\")(encoder_d)\n",
        "\n",
        "#DECODER\n",
        "batch_norm_3 = layers.BatchNormalization(axis=1)\n",
        "decoder_d = layers.Dense(64, activation = \"relu\")(code_d)\n",
        "batch_norm_4 = layers.BatchNormalization(axis=1)\n",
        "output_layer_d = layers.Dense(784, activation = \"sigmoid\")(decoder_d)\n",
        "#The output layer uses sigmoid as its activation function as we want the outputs to be between 0 and 1\n",
        "\n",
        "#Joining the Model\n",
        "autoencoder_4_upd = Model(input_layer_d, output_layer_d)"
      ],
      "execution_count": null,
      "outputs": []
    },
    {
      "cell_type": "code",
      "metadata": {
        "id": "b6ioWR2Vmkmr"
      },
      "source": [
        "#Compiling the Model\n",
        "autoencoder_4_upd.compile(optimizer = \"adam\", loss = \"binary_crossentropy\")"
      ],
      "execution_count": null,
      "outputs": []
    },
    {
      "cell_type": "code",
      "metadata": {
        "colab": {
          "base_uri": "https://localhost:8080/"
        },
        "id": "suh_frk9mn0L",
        "outputId": "466e3139-8be7-42e5-f42a-92a2bb3c564d"
      },
      "source": [
        "#Fitting the Model\n",
        "#The targets of the AE are the inputs hence we supply X_train as its target\n",
        "history_4_upd = autoencoder_4_upd.fit(X_train, X_train, epochs = 20)"
      ],
      "execution_count": null,
      "outputs": [
        {
          "output_type": "stream",
          "text": [
            "Epoch 1/20\n",
            "1875/1875 [==============================] - 7s 3ms/step - loss: 0.2337\n",
            "Epoch 2/20\n",
            "1875/1875 [==============================] - 6s 3ms/step - loss: 0.1539\n",
            "Epoch 3/20\n",
            "1875/1875 [==============================] - 6s 3ms/step - loss: 0.1441\n",
            "Epoch 4/20\n",
            "1875/1875 [==============================] - 6s 3ms/step - loss: 0.1392\n",
            "Epoch 5/20\n",
            "1875/1875 [==============================] - 6s 3ms/step - loss: 0.1370\n",
            "Epoch 6/20\n",
            "1875/1875 [==============================] - 6s 3ms/step - loss: 0.1354\n",
            "Epoch 7/20\n",
            "1875/1875 [==============================] - 6s 3ms/step - loss: 0.1338\n",
            "Epoch 8/20\n",
            "1875/1875 [==============================] - 6s 3ms/step - loss: 0.1329\n",
            "Epoch 9/20\n",
            "1875/1875 [==============================] - 6s 3ms/step - loss: 0.1321\n",
            "Epoch 10/20\n",
            "1875/1875 [==============================] - 6s 3ms/step - loss: 0.1312\n",
            "Epoch 11/20\n",
            "1875/1875 [==============================] - 6s 3ms/step - loss: 0.1310\n",
            "Epoch 12/20\n",
            "1875/1875 [==============================] - 6s 3ms/step - loss: 0.1303\n",
            "Epoch 13/20\n",
            "1875/1875 [==============================] - 6s 3ms/step - loss: 0.1299\n",
            "Epoch 14/20\n",
            "1875/1875 [==============================] - 6s 3ms/step - loss: 0.1297\n",
            "Epoch 15/20\n",
            "1875/1875 [==============================] - 6s 3ms/step - loss: 0.1294\n",
            "Epoch 16/20\n",
            "1875/1875 [==============================] - 6s 3ms/step - loss: 0.1290\n",
            "Epoch 17/20\n",
            "1875/1875 [==============================] - 6s 3ms/step - loss: 0.1286\n",
            "Epoch 18/20\n",
            "1875/1875 [==============================] - 6s 3ms/step - loss: 0.1284\n",
            "Epoch 19/20\n",
            "1875/1875 [==============================] - 6s 3ms/step - loss: 0.1281\n",
            "Epoch 20/20\n",
            "1875/1875 [==============================] - 6s 3ms/step - loss: 0.1278\n"
          ],
          "name": "stdout"
        }
      ]
    },
    {
      "cell_type": "code",
      "metadata": {
        "id": "0oE886junU_g"
      },
      "source": [
        "#Reconstructions\n",
        "reconstruction_4_upd = autoencoder_4_upd.predict(X_test)"
      ],
      "execution_count": null,
      "outputs": []
    },
    {
      "cell_type": "code",
      "metadata": {
        "colab": {
          "base_uri": "https://localhost:8080/"
        },
        "id": "CyOvEAyKnYia",
        "outputId": "bf4e2bf2-6cd8-450e-9388-6cb6b19362f0"
      },
      "source": [
        "plt.plot(history_1.history['loss'])\n",
        "plt.plot(history_2.history['loss'])\n",
        "plt.plot(history_3.history['loss'])\n",
        "plt.plot(history_4.history['loss'])\n",
        "plt.plot(history_5.history['loss'])\n",
        "plt.plot(history_4_upd.history['loss'])\n",
        "plt.title('Model Loss')\n",
        "plt.ylabel('Loss')\n",
        "plt.xlabel('Epochs')\n",
        "plt.legend(['Model 1', 'Model 2', 'Model 3', 'Model 4', 'Model 5', 'Upd Model 4'], loc='upper right')\n",
        "plt.show()"
      ],
      "execution_count": null,
      "outputs": [
        {
          "output_type": "display_data",
          "data": {
            "image/png": "[encoded data removed]",
            "text/plain": [
              "<Figure size 432x288 with 1 Axes>"
            ]
          },
          "metadata": {
            "tags": []
          }
        }
      ]
    },
    {
      "cell_type": "markdown",
      "metadata": {
        "id": "iwF0_thBCwjR"
      },
      "source": [
        "## Insights\n",
        "\n",
        "The model with the lowest loss is Model 5, which has the highest number of neurons in its layers, including the code layer. The code layer has the highest number of neurons, which means least compression is done. Hence, the difference between the inputs and the reconstructed output will not be very high.\n",
        "\n",
        "Adding BatchNormalisation to Model 4 resulted in a small decrease in the loss. This could probably be because the effect of BatchNormalization is truely felt in depeer networks.\n",
        "\n"
      ]
    },
    {
      "cell_type": "markdown",
      "metadata": {
        "id": "iqpZD1LsCZh_"
      },
      "source": [
        "#Denoising AE"
      ]
    },
    {
      "cell_type": "code",
      "metadata": {
        "id": "7dZDkWpMEqT1"
      },
      "source": [
        "#Re-importing the dataset to omit the modifications made earlier on\n",
        "(X_train,_), (X_test,_) = tf.keras.datasets.mnist.load_data()"
      ],
      "execution_count": null,
      "outputs": []
    },
    {
      "cell_type": "markdown",
      "metadata": {
        "id": "Ku95TNObC-na"
      },
      "source": [
        "##Normalising the Data"
      ]
    },
    {
      "cell_type": "code",
      "metadata": {
        "colab": {
          "base_uri": "https://localhost:8080/"
        },
        "id": "-3rzpTjJCsAj",
        "outputId": "e55366f6-06f6-4372-f5dc-4a4a07b72c73"
      },
      "source": [
        "#Converting them to floating points\n",
        "X_train = X_train.astype('float32')\n",
        "X_test = X_test.astype('float32')\n",
        "\n",
        "#Normalizing the data by diving by 255 so the data is within 0 to 1 as max pixel value is 255\n",
        "X_train = X_train / 255\n",
        "X_test = X_test / 255\n",
        "\n",
        "X_train = X_train[..., tf.newaxis]\n",
        "X_test = X_test[..., tf.newaxis]\n",
        "\n",
        "print(\"X_train = \", X_train.shape)\n",
        "print(\"X_test = \", X_test.shape)"
      ],
      "execution_count": null,
      "outputs": [
        {
          "output_type": "stream",
          "text": [
            "X_train =  (60000, 28, 28, 1)\n",
            "X_test =  (10000, 28, 28, 1)\n"
          ],
          "name": "stdout"
        }
      ]
    },
    {
      "cell_type": "markdown",
      "metadata": {
        "id": "Gy4LfLSAEA_Y"
      },
      "source": [
        "##Adding Random Noise to the Images"
      ]
    },
    {
      "cell_type": "code",
      "metadata": {
        "id": "3MJ9C8KCDdsw"
      },
      "source": [
        "noise_factor = 0.2\n",
        "\n",
        "#Add noise by adding the product of the noise factor and random values from the normal distribution\n",
        "X_train_noisy = X_train + noise_factor * tf.random.normal(shape=X_train.shape) \n",
        "X_test_noisy = X_test + noise_factor * tf.random.normal(shape=X_test.shape) \n",
        "\n",
        "#Set the values of the tensor within the range 0 and 1\n",
        "X_train_noisy = tf.clip_by_value(X_train_noisy, clip_value_min=0., clip_value_max=1.)\n",
        "X_test_noisy = tf.clip_by_value(X_test_noisy, clip_value_min=0., clip_value_max=1.)"
      ],
      "execution_count": null,
      "outputs": []
    },
    {
      "cell_type": "code",
      "metadata": {
        "colab": {
          "base_uri": "https://localhost:8080/",
          "height": 173
        },
        "id": "k5ig3p_nEz_i",
        "outputId": "d286d1db-4386-41a0-ee82-4df9fa0940cf"
      },
      "source": [
        "#Plotting the noisy images\n",
        "n = 5\n",
        "plt.figure(figsize=(20, 2))\n",
        "for i in range(n):\n",
        "    ax = plt.subplot(1, n, i + 1)\n",
        "    plt.title(\"Noisy Images\")\n",
        "    plt.imshow(tf.squeeze(X_test_noisy[i]))\n",
        "    plt.gray()\n",
        "plt.show()"
      ],
      "execution_count": null,
      "outputs": [
        {
          "output_type": "display_data",
          "data": {
            "image/png": "[encoded data removed]",
            "text/plain": [
              "<Figure size 1440x144 with 5 Axes>"
            ]
          },
          "metadata": {
            "tags": []
          }
        }
      ]
    },
    {
      "cell_type": "markdown",
      "metadata": {
        "id": "ju91mnnyFKV0"
      },
      "source": [
        "##Defining the Autoencoder\n",
        "\n",
        "Trained using convolutional layers in the encoder and \n",
        "\n",
        "Convolutional layers convolve(slide) over the input image trying to detect patterns and adapt weights accordingly. Transposed convolutional layers can be used to upsample ie: reconstruct original inputs given the result of the convolutional layers of the encoder. "
      ]
    },
    {
      "cell_type": "code",
      "metadata": {
        "id": "4aK6FgGYFA7U"
      },
      "source": [
        "#Defining the denoise autoencoder\n",
        "#The input shape is kept at 28,28,1 as the data is greyscale and thereofre has 1 channel \n",
        "class Denoise_AE(Model):\n",
        "  def __init__(self):\n",
        "    super(Denoise_AE, self).__init__()\n",
        "    #Encoder\n",
        "    self.encoder = tf.keras.Sequential([\n",
        "      layers.Input(shape=(28, 28, 1)),\n",
        "      layers.Conv2D(16, kernel_size = (3, 3), activation='relu', padding='same', strides=2),\n",
        "\n",
        "      #Code Layer\n",
        "      layers.Conv2D(8, kernel_size = (3, 3), activation='relu', padding='same', strides=2)]) \n",
        "\n",
        "    #Decoder\n",
        "    self.decoder = tf.keras.Sequential([\n",
        "      layers.Conv2DTranspose(8, kernel_size=3, strides=2, activation='relu', padding='same'),\n",
        "      layers.Conv2DTranspose(16, kernel_size=3, strides=2, activation='relu', padding='same'),\n",
        "      #Output Layer\n",
        "      layers.Conv2D(1, kernel_size=(3, 3), activation='sigmoid', padding='same')]) \n",
        "\n",
        "  def call(self, x):\n",
        "    encoded = self.encoder(x)\n",
        "    decoded = self.decoder(encoded)\n",
        "    return decoded\n",
        "\n",
        "denoise_autoencoder = Denoise_AE()"
      ],
      "execution_count": null,
      "outputs": []
    },
    {
      "cell_type": "code",
      "metadata": {
        "id": "K6MxytyNPb6_"
      },
      "source": [
        "#Compiling the AE\n",
        "denoise_autoencoder.compile(optimizer='adam', loss='binary_crossentropy')\n",
        "\n",
        "#Binary Crossentropy was used as the loss as the input values are between 0 and 1 as we have normalised the data as such."
      ],
      "execution_count": null,
      "outputs": []
    },
    {
      "cell_type": "code",
      "metadata": {
        "colab": {
          "background_save": true,
          "base_uri": "https://localhost:8080/"
        },
        "id": "L9FQI1OAJ9Lk",
        "outputId": "57ad42ea-134b-487d-8c6f-8969d55755e0"
      },
      "source": [
        "hist_den_ae = denoise_autoencoder.fit(X_train_noisy, X_train,\n",
        "                epochs=10,)"
      ],
      "execution_count": null,
      "outputs": [
        {
          "output_type": "stream",
          "text": [
            "Epoch 1/10\n",
            "1875/1875 [==============================] - 68s 36ms/step - loss: 0.1956\n",
            "Epoch 2/10\n",
            "1875/1875 [==============================] - 68s 36ms/step - loss: 0.0758\n",
            "Epoch 3/10\n",
            "1875/1875 [==============================] - 68s 36ms/step - loss: 0.0745\n",
            "Epoch 4/10\n",
            "1875/1875 [==============================] - 68s 36ms/step - loss: 0.0736\n",
            "Epoch 5/10\n",
            "1875/1875 [==============================] - 68s 36ms/step - loss: 0.0733\n",
            "Epoch 6/10\n",
            "1875/1875 [==============================] - 68s 36ms/step - loss: 0.0730\n",
            "Epoch 7/10\n",
            "1875/1875 [==============================] - 66s 35ms/step - loss: 0.0726\n",
            "Epoch 8/10\n",
            "1875/1875 [==============================] - 66s 35ms/step - loss: 0.0724\n",
            "Epoch 9/10\n",
            "1875/1875 [==============================] - 66s 35ms/step - loss: 0.0720\n",
            "Epoch 10/10\n",
            "1875/1875 [==============================] - 66s 35ms/step - loss: 0.0720\n"
          ],
          "name": "stdout"
        }
      ]
    },
    {
      "cell_type": "code",
      "metadata": {
        "colab": {
          "background_save": true
        },
        "id": "K2onOH7yPjx7"
      },
      "source": [
        "clean_images = denoise_autoencoder.predict(X_test_noisy)"
      ],
      "execution_count": null,
      "outputs": []
    },
    {
      "cell_type": "code",
      "metadata": {
        "colab": {
          "background_save": true
        },
        "id": "Cv5JAh2cP5b-",
        "outputId": "e300fa76-a0cc-4490-f264-27c655d72dd7"
      },
      "source": [
        "n = 5\n",
        "plt.figure(figsize=(20, 10))\n",
        "for i in range(n):\n",
        "  # display original\n",
        "  ax = plt.subplot(2, n, i + 1)\n",
        "  plt.imshow(tf.squeeze(X_test_noisy[i]))\n",
        "  plt.title(\"Noisy X_test\")\n",
        "  plt.gray()\n",
        "  ax.get_xaxis().set_visible(False)\n",
        "  ax.get_yaxis().set_visible(False)\n",
        "\n",
        "  # display reconstruction\n",
        "  ax = plt.subplot(2, n, i + 1 + n)\n",
        "  plt.imshow(clean_images[i].reshape(28,28), cmap = \"gray\", interpolation = \"none\")\n",
        "  plt.title(\"Clean Images\")\n",
        "  plt.gray()\n",
        "  ax.get_xaxis().set_visible(False)\n",
        "  ax.get_yaxis().set_visible(False)\n",
        "plt.show()"
      ],
      "execution_count": null,
      "outputs": [
        {
          "output_type": "display_data",
          "data": {
            "image/png": "[encoded data removed]",
            "text/plain": [
              "<Figure size 1440x720 with 10 Axes>"
            ]
          },
          "metadata": {
            "tags": []
          }
        }
      ]
    },
    {
      "cell_type": "code",
      "metadata": {
        "colab": {
          "background_save": true
        },
        "id": "EMqOPmK3Pbjd",
        "outputId": "73f612fe-d31f-4263-a315-5778b2f60239"
      },
      "source": [
        "denoise_autoencoder.encoder.summary()\n",
        "\n",
        "#The output shape can be calculated by the following:\n",
        "# floor(((n+2p-f)/s)+1) x floor(((n+2p-f)/s)+1) x N'c \n",
        "# n = height/width\n",
        "# p = padding \n",
        "# f = filter size\n",
        "# s = stride\n",
        "# N'c = number of filters used"
      ],
      "execution_count": null,
      "outputs": [
        {
          "output_type": "stream",
          "text": [
            "Model: \"sequential_6\"\n",
            "_________________________________________________________________\n",
            "Layer (type)                 Output Shape              Param #   \n",
            "=================================================================\n",
            "conv2d_9 (Conv2D)            (None, 14, 14, 16)        160       \n",
            "_________________________________________________________________\n",
            "conv2d_10 (Conv2D)           (None, 7, 7, 8)           1160      \n",
            "=================================================================\n",
            "Total params: 1,320\n",
            "Trainable params: 1,320\n",
            "Non-trainable params: 0\n",
            "_________________________________________________________________\n"
          ],
          "name": "stdout"
        }
      ]
    },
    {
      "cell_type": "code",
      "metadata": {
        "colab": {
          "background_save": true
        },
        "id": "SLC0tnPJPmEL",
        "outputId": "05193205-78e1-44f9-ca92-bea8cbdbb947"
      },
      "source": [
        "denoise_autoencoder.decoder.summary()"
      ],
      "execution_count": null,
      "outputs": [
        {
          "output_type": "stream",
          "text": [
            "Model: \"sequential_7\"\n",
            "_________________________________________________________________\n",
            "Layer (type)                 Output Shape              Param #   \n",
            "=================================================================\n",
            "conv2d_transpose_6 (Conv2DTr (None, 14, 14, 8)         584       \n",
            "_________________________________________________________________\n",
            "conv2d_transpose_7 (Conv2DTr (None, 28, 28, 16)        1168      \n",
            "_________________________________________________________________\n",
            "conv2d_11 (Conv2D)           (None, 28, 28, 1)         145       \n",
            "=================================================================\n",
            "Total params: 1,897\n",
            "Trainable params: 1,897\n",
            "Non-trainable params: 0\n",
            "_________________________________________________________________\n"
          ],
          "name": "stdout"
        }
      ]
    },
    {
      "cell_type": "code",
      "metadata": {
        "colab": {
          "background_save": true
        },
        "id": "gDKJFNoDKnCO",
        "outputId": "cf952b2d-59a5-4db5-81a1-bd2b6038c8eb"
      },
      "source": [
        "#Plotting the training loss of the Denoising Encoder\n",
        "plt.plot(hist_den_ae.history['loss'])\n",
        "plt.title('Model Loss')\n",
        "plt.ylabel('Loss')\n",
        "plt.xlabel('Epochs')\n",
        "plt.legend(['Model 1', 'Model 2', 'Model 3', 'Model 4', 'Model 5', 'Denoising AE'], loc='upper right')\n",
        "plt.show()"
      ],
      "execution_count": null,
      "outputs": [
        {
          "output_type": "display_data",
          "data": {
            "image/png": "[encoded data removed]",
            "text/plain": [
              "<Figure size 432x288 with 1 Axes>"
            ]
          },
          "metadata": {
            "tags": []
          }
        }
      ]
    }
  ]
}